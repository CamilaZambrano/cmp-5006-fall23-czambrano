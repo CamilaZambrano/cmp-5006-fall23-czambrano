{
 "cells": [
  {
   "cell_type": "markdown",
   "metadata": {},
   "source": [
    "# Homework 3: picoCTF Challenges 2"
   ]
  },
  {
   "cell_type": "markdown",
   "metadata": {},
   "source": [
    "## Cookies"
   ]
  },
  {
   "cell_type": "markdown",
   "metadata": {},
   "source": [
    "**1. Trial:** tried some cookies and saw that the value change in the developer tools cookies section:\n",
    "- snickerdoodle - 0\n",
    "- gingerbread - 23\n",
    "- chocolate chip - 1\n",
    "- peanut butter - 5\n",
    "\n",
    "![Graph1](Cookies/inicio.png)\n",
    "![Graph2](Cookies/snicker.png)\n",
    "![Graph3](Cookies/ginger.png)\n",
    "\n",
    "**2. Check values:** Change the value ramdomly to see what happened and above 30 there were no cookies.  \n",
    "**3. Code:** Write a code that tries all 30 options to see which one is the correct one."
   ]
  },
  {
   "cell_type": "code",
   "execution_count": 7,
   "metadata": {},
   "outputs": [
    {
     "name": "stdout",
     "output_type": "stream",
     "text": [
      "name=18\n"
     ]
    }
   ],
   "source": [
    "import requests\n",
    "\n",
    "for i in range(30):\n",
    "    cookie = 'name={}'.format(i)\n",
    "    headers = {'Cookie': cookie}\n",
    "    \n",
    "    try:\n",
    "        r = requests.get('http://mercury.picoctf.net:6418/check', headers=headers)\n",
    "        r.raise_for_status() # Raise exception if invalid response\n",
    "        \n",
    "        if 'picoCTF' in r.text:\n",
    "            print(cookie)\n",
    "    except requests.exceptions.RequestException as e:\n",
    "        print(f\"Error making request: {e}\")"
   ]
  },
  {
   "cell_type": "markdown",
   "metadata": {},
   "source": [
    "**4. Obtain flag:** Then I modify the cookie value with 18 and obtained the flag.\n",
    "     \n",
    "![Graph4](Cookies/key.png)"
   ]
  },
  {
   "cell_type": "markdown",
   "metadata": {},
   "source": [
    "## Scavenger Hunt"
   ]
  },
  {
   "cell_type": "markdown",
   "metadata": {},
   "source": [
    "**1. HTML:** search for anything in the HTLM code.  \n",
    "  \n",
    "![Graph1](Hunt/1.png)\n",
    "  \n",
    "**2. CSS:** search for anything in the linked css file.  \n",
    "  \n",
    "![Graph2](Hunt/2.png)\n",
    "  \n",
    "**3. JS:** search for anything in the linked java script file.  \n",
    "  \n",
    "![Graph3](Hunt/3.png)\n",
    "  \n",
    "**4. Google No Index:** Search in google how to no index pages and tries the .robots.txt.    \n",
    "  \n",
    "![Graph4](Hunt/4.png)\n",
    "\n",
    "![Graph5](Hunt/5.png)\n",
    "  \n",
    "**5. Apache Server**: Search in google information of Apache server and found something about access in wikipedia, so I tried it.  \n",
    "  \n",
    "![Graph6](Hunt/6.png)\n",
    "  \n",
    "![Graph7](Hunt/7.png)\n",
    "  \n",
    "**8. Mac Storage:** in mac theres a file called DS_Store, a file that stores custom attributes, so I tried that.  \n",
    "  \n",
    "![Graph8](Hunt/8.png)"
   ]
  },
  {
   "cell_type": "markdown",
   "metadata": {},
   "source": [
    "## findme"
   ]
  },
  {
   "cell_type": "markdown",
   "metadata": {},
   "source": [
    "**1. Clues:** search for any clues and try some words like flag, human and robot, but it didn't work.\n",
    "  \n",
    "![Graph1](Findme/1.png)\n",
    "  \n",
    "**2. Hints:** saw the hint provided by picoCTF and it says to look for any redirectioning, so I look up the history and in fact there were 2 redirections.  \n",
    "  \n",
    "![Graph2](Findme/2.png)\n",
    "  \n",
    "**3. Developer Tools:** use the developer tools network section to find more clues, but then I realize the urls themselves were some kind of code.  \n",
    "     \n",
    "![Graph3](Findme/3.png)\n",
    "\n",
    "![Graph4](Findme/4.png)\n",
    "  \n",
    "**4. Ask chatGPT:** becuase I didn't know what kind of cypher it was I asked chatGPT. \n",
    "  \n",
    "![Graph6](Findme/5.png)\n",
    "    \n",
    "**5. Decode:** since it was a base64 code I use an online decoder and found the flag. \n",
    "  \n",
    "![Graph7](Findme/6.png)"
   ]
  },
  {
   "cell_type": "markdown",
   "metadata": {},
   "source": [
    "## Inspect HTML"
   ]
  },
  {
   "cell_type": "markdown",
   "metadata": {},
   "source": [
    "The name said it all, I open the developer tools in chrome and seach of the flag in the HTML code.  \n",
    "  \n",
    "![Graph1](HTML.png)"
   ]
  },
  {
   "cell_type": "markdown",
   "metadata": {},
   "source": [
    "## It is my Birthday"
   ]
  },
  {
   "cell_type": "markdown",
   "metadata": {},
   "source": [
    "**1. Clues:** I open the webpage provided in the challange to see if there where any clues, but I only found that files could be uploaded and that was it. \n",
    "  \n",
    "![Graph1](Birthday/6.png)\n",
    "\n",
    "**2. Research:** After reading the hints and the description on the challange, I search on google information about having the same md5 hash, but no collision, and enter the first link. \n",
    "  \n",
    "![Graph2](Birthday/1.png)\n",
    "\n",
    "**3. Read:** the link was a forum and in it a user had publish a link to a webside with more information about same md5 hashing, I enter the link.\n",
    "  \n",
    "![Graph3](Birthday/2.png)\n",
    "\n",
    "**4. Download:** the webside had 2 files that I could download and they had the same hash, so based on the challenge description I thought they could work.\n",
    "  \n",
    "![Graph4](Birthday/3.png)\n",
    "\n",
    "**5. PDF:** I open the terminal and change the extensions of the files becuase the webside for the challange only permited .pdf files. \n",
    "  \n",
    "![Graph5](Birthday/4.png)\n",
    "\n",
    "**6. Research:** After reading the hints and the description on the challange, I search on google information about having the same md5 hash, but no collision, and enter the first link. \n",
    "  \n",
    "![Graph6](Birthday/5.png)\n",
    "\n",
    "**7. Flag:** After summiting the 2 files a index.php file open, since in the hints there was a mention of PHP I went through the file and finally found the flag. \n",
    "  \n",
    "![Graph7](Birthday/7.png)"
   ]
  },
  {
   "cell_type": "markdown",
   "metadata": {},
   "source": [
    "## Local Authority"
   ]
  },
  {
   "cell_type": "markdown",
   "metadata": {},
   "source": [
    "**1. Webpage:** enter into the webpage provided in the challange with the developers tools page open and look for anything. Also, I tried to put a random user and password to see what happened. \n",
    "  \n",
    "![Graph1](local/1.png)\n",
    "\n",
    "**2. PHP:** The login failed, so then I used control U on the fail login page, it open the login.php code. Because of the hint I open the secure.js file to see what was in it. \n",
    "\n",
    "![Graph2](local/5.png)\n",
    "![Graph3](local/2.png)\n",
    "\n",
    "**3. Credentials:** In the file I found the correct credentials and used them in the login page.  \n",
    "  \n",
    "![Graph4](local/3.png)\n",
    "\n",
    "**4. Flag:** The login correctly happened and I obtained the flag. \n",
    "  \n",
    "![Graph5](local/4.png)"
   ]
  },
  {
   "cell_type": "markdown",
   "metadata": {},
   "source": [
    "## Login"
   ]
  },
  {
   "cell_type": "markdown",
   "metadata": {},
   "source": [
    "**1. Webpage:** enter into the webpage provided in the challange and look what it was about.\n",
    "  \n",
    "![Graph1](login/6.png)\n",
    "\n",
    "**2. View Source:** I used control U and it open the source code, there were 2 files and I open them both to look for clues. \n",
    "  \n",
    "![Graph2](login/1.png)\n",
    "\n",
    "**3. Index File:** The second file I opened had an interesting format. After carfully read it and try to undersatand it I found the password and username. \n",
    "  \n",
    "![Graph3](login/2.png)\n",
    "\n",
    "**4. Base64 Code:** The credentials were encrypted so I tried to use the Base64 code decryptior online, because I had tried it earlier and it had work, so it was my first options. Thankfully it work.\n",
    "  \n",
    "![Graph4](login/3.png)\n",
    "![Graph5](login/4.png)\n",
    "\n",
    "**5. Flag:** I put in the credentials, login and obtain the flag. \n",
    "  \n",
    "![Graph6](login/5.png)"
   ]
  },
  {
   "cell_type": "markdown",
   "metadata": {},
   "source": [
    "## Logon"
   ]
  },
  {
   "cell_type": "markdown",
   "metadata": {},
   "source": [
    "**1. Webpage:** I enter into the webpage provided in the challange with the developers tools page open and look for anything. Also, I tried to put a random user and password and failed. \n",
    "  \n",
    "![Graph1](Logon/1.png)\n",
    "![Graph2](Logon/2.png)\n",
    "\n",
    "\n",
    "**1. Developer Tools:** I open the developer tools page on chrome in the failed login page to see if there were any clues. When a opened the cookies sections there was a False in a part of the credentials. \n",
    "  \n",
    "![Graph3](Logon/3.png)\n",
    "\n",
    "**4. Flag:**  I change this value to True and reload the page, obtaining the flag. \n",
    "  \n",
    "![Graph4](Logon/4.png)\n",
    "![Graph5](Logon/5.png)"
   ]
  },
  {
   "cell_type": "markdown",
   "metadata": {},
   "source": [
    "## Search Source"
   ]
  },
  {
   "cell_type": "markdown",
   "metadata": {},
   "source": [
    "**1. Shell:** I used the picoCTF provided shell to recursively download everything on the webpage provided with the command wget -r and the link. \n",
    "  \n",
    "![Graph1](Search/1.png)\n",
    "\n",
    "**2. Directories:** After the download I used the ls command to see if there was any directories.\n",
    "  \n",
    "![Graph2](Search/2.png)\n",
    "\n",
    "**3. Flag:** I search trough every file in the directory and found the flag.  \n",
    "  \n",
    "![Graph3](Search/3.png)"
   ]
  },
  {
   "cell_type": "markdown",
   "metadata": {},
   "source": [
    "## Where are the Robots"
   ]
  },
  {
   "cell_type": "markdown",
   "metadata": {},
   "source": [
    "**1. Webpage:** I enter into the webpage provided in the challange and look for anything.\n",
    "  \n",
    "![Graph1](Robots/1.png)\n",
    "  \n",
    "**2. ChatGPT:** Since, there was nothing on the webpage I read the clues and asked chatGPT.\n",
    "  \n",
    "![Graph2](Robots/2.png)\n",
    "  \n",
    "**3. Robots File:** Based on the answer I open the robots.txt file. \n",
    "  \n",
    "![Graph3](Robots/3.png)\n",
    "\n",
    "**3. Flag:** Based on the file info I open the file name provided and found the flag. \n",
    "  \n",
    "![Graph4](Robots/4.png)"
   ]
  }
 ],
 "metadata": {
  "kernelspec": {
   "display_name": "Python 3",
   "language": "python",
   "name": "python3"
  },
  "language_info": {
   "codemirror_mode": {
    "name": "ipython",
    "version": 3
   },
   "file_extension": ".py",
   "mimetype": "text/x-python",
   "name": "python",
   "nbconvert_exporter": "python",
   "pygments_lexer": "ipython3",
   "version": "3.9.13"
  }
 },
 "nbformat": 4,
 "nbformat_minor": 2
}
