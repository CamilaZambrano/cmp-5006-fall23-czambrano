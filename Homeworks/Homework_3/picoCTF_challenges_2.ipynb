{
 "cells": [
  {
   "cell_type": "markdown",
   "metadata": {},
   "source": [
    "# Homework 3: picoCTF Challenges 2"
   ]
  },
  {
   "cell_type": "markdown",
   "metadata": {},
   "source": [
    "## Cookies"
   ]
  },
  {
   "cell_type": "markdown",
   "metadata": {},
   "source": [
    "**1. Trial:** tried some cookies and saw that the value change in the developer tools cookies section:\n",
    "- snickerdoodle - 0\n",
    "- gingerbread - 23\n",
    "- chocolate chip - 1\n",
    "- peanut butter - 5\n",
    "\n",
    "![Graph1](Cookies/inicio.png)\n",
    "![Graph2](Cookies/snicker.png)\n",
    "![Graph3](Cookies/ginger.png)\n",
    "\n",
    "**2. Check values:** Change the value ramdomly to see what happened and above 30 there were no cookies.  \n",
    "**3. Code:** Write a code that tries all 30 options to see which one is the correct one."
   ]
  },
  {
   "cell_type": "code",
   "execution_count": 7,
   "metadata": {},
   "outputs": [
    {
     "name": "stdout",
     "output_type": "stream",
     "text": [
      "name=18\n"
     ]
    }
   ],
   "source": [
    "import requests\n",
    "\n",
    "for i in range(30):\n",
    "    cookie = 'name={}'.format(i)\n",
    "    headers = {'Cookie': cookie}\n",
    "    \n",
    "    try:\n",
    "        r = requests.get('http://mercury.picoctf.net:6418/check', headers=headers)\n",
    "        r.raise_for_status() # Raise exception if invalid response\n",
    "        \n",
    "        if 'picoCTF' in r.text:\n",
    "            print(cookie)\n",
    "    except requests.exceptions.RequestException as e:\n",
    "        print(f\"Error making request: {e}\")"
   ]
  },
  {
   "cell_type": "markdown",
   "metadata": {},
   "source": [
    "**4. Obtain flag:** Then I modify the cookie value with 18 and obtained the flag.\n",
    "     \n",
    "![Graph4](Cookies/key.png)"
   ]
  },
  {
   "cell_type": "markdown",
   "metadata": {},
   "source": [
    "## Scavenger Hunt"
   ]
  },
  {
   "cell_type": "markdown",
   "metadata": {},
   "source": [
    "**1. HTML:** search for anything in the HTLM code.  \n",
    "  \n",
    "![Graph1](Hunt/1.png)\n",
    "  \n",
    "**2. CSS:** search for anything in the linked css file.  \n",
    "  \n",
    "![Graph2](Hunt/2.png)\n",
    "  \n",
    "**3. JS:** search for anything in the linked java script file.  \n",
    "  \n",
    "![Graph3](Hunt/3.png)\n",
    "  \n",
    "**4. Google No Index:** Search in google how to no index pages and tries the .robots.txt.    \n",
    "  \n",
    "![Graph4](Hunt/4.png)\n",
    "\n",
    "![Graph5](Hunt/5.png)\n",
    "  \n",
    "**5. Apache Server**: Search in google information of Apache server and found something about access in wikipedia, so I tried it.  \n",
    "  \n",
    "![Graph6](Hunt/6.png)\n",
    "  \n",
    "![Graph7](Hunt/7.png)\n",
    "  \n",
    "**8. Mac Storage:** in mac theres a file called DS_Store, a file that stores custom attributes, so I tried that.  \n",
    "  \n",
    "![Graph8](Hunt/8.png)"
   ]
  },
  {
   "cell_type": "markdown",
   "metadata": {},
   "source": [
    "## findme"
   ]
  },
  {
   "cell_type": "markdown",
   "metadata": {},
   "source": [
    "**1. Clues:** search for any clues and try some words like flag, human and robot, but it didn't work.\n",
    "  \n",
    "![Graph1](Findme/1.png)\n",
    "  \n",
    "**2. Hints:** saw the hint provided by picoCTF and it says to look for any redirectioning, so I look up the history and in fact there were 2 redirections.  \n",
    "  \n",
    "![Graph2](Findme/2.png)\n",
    "  \n",
    "**3. Developer Tools:** use the developer tools network section to find more clues, but then I realize the urls themselves were some kind of code.  \n",
    "     \n",
    "![Graph3](Findme/3.png)\n",
    "\n",
    "![Graph4](Findme/4.png)\n",
    "  \n",
    "**4. Ask chatGPT**: becuase I didn't know what kind of cypher it was I asked chatGPT. \n",
    "  \n",
    "![Graph6](Findme/5.png)\n",
    "    \n",
    "**5. Decode:** since it was a base64 code I use an online decoder and found the flag. \n",
    "  \n",
    "![Graph7](Findme/6.png)"
   ]
  },
  {
   "cell_type": "markdown",
   "metadata": {},
   "source": [
    "## Inspect HTML"
   ]
  },
  {
   "cell_type": "markdown",
   "metadata": {},
   "source": [
    "The name said it all, I open the developer tools in chrome and seach of the flag in the HTML code.  \n",
    "  \n",
    "![Graph1](HTML.png)"
   ]
  },
  {
   "cell_type": "markdown",
   "metadata": {},
   "source": [
    "## It is my Birthday"
   ]
  },
  {
   "cell_type": "markdown",
   "metadata": {},
   "source": [
    "**1. Clues:** I open the webpage provided in the challange to see if there where any clues, but I only found that files could be uploaded and that was it. \n",
    "  \n",
    "![Graph1](Birthday/6.png)\n",
    "\n",
    "**2. Research:** After reading the hints and the description on the challange, I search on google information about having the same md5 hash, but no collision, and enter the first link. \n",
    "  \n",
    "![Graph2](Birthday/1.png)\n",
    "\n",
    "**3. Read:** the link was a forum and in it a user had publish a link to a webside with more information about same md5 hashing, I enter the link.\n",
    "  \n",
    "![Graph3](Birthday/2.png)\n",
    "\n",
    "**4. Download:** the webside had 2 files that I could download and they had the same hash, so based on the challenge description I thought they could work.\n",
    "  \n",
    "![Graph4](Birthday/3.png)\n",
    "\n",
    "**5. PDF:** I open the terminal and change the extensions of the files becuase the webside for the challange only permited .pdf files. \n",
    "  \n",
    "![Graph5](Birthday/4.png)\n",
    "\n",
    "**6. Research:** After reading the hints and the description on the challange, I search on google information about having the same md5 hash, but no collision, and enter the first link. \n",
    "  \n",
    "![Graph6](Birthday/5.png)\n",
    "\n",
    "**7. Flag:** After summiting the 2 files a index.php file open, since in the hints there was a mention of PHP I went through the file and finally found the flag. \n",
    "  \n",
    "![Graph7](Birthday/7.png)"
   ]
  },
  {
   "cell_type": "markdown",
   "metadata": {},
   "source": [
    "## Local Authority"
   ]
  },
  {
   "cell_type": "markdown",
   "metadata": {},
   "source": [
    "The name said it all, I open the developer tools in chrome and seach of the flag in the HTML code.  \n",
    "  \n",
    "![Graph1](HTML.png)"
   ]
  },
  {
   "cell_type": "markdown",
   "metadata": {},
   "source": [
    "## Login"
   ]
  },
  {
   "cell_type": "markdown",
   "metadata": {},
   "source": [
    "The name said it all, I open the developer tools in chrome and seach of the flag in the HTML code.  \n",
    "  \n",
    "![Graph1](HTML.png)"
   ]
  },
  {
   "cell_type": "markdown",
   "metadata": {},
   "source": [
    "## Logon"
   ]
  },
  {
   "cell_type": "markdown",
   "metadata": {},
   "source": [
    "The name said it all, I open the developer tools in chrome and seach of the flag in the HTML code.  \n",
    "  \n",
    "![Graph1](HTML.png)"
   ]
  },
  {
   "cell_type": "markdown",
   "metadata": {},
   "source": [
    "## Search Source"
   ]
  },
  {
   "cell_type": "markdown",
   "metadata": {},
   "source": [
    "The name said it all, I open the developer tools in chrome and seach of the flag in the HTML code.  \n",
    "  \n",
    "![Graph1](HTML.png)"
   ]
  },
  {
   "cell_type": "markdown",
   "metadata": {},
   "source": [
    "## Where are the Robots"
   ]
  },
  {
   "cell_type": "markdown",
   "metadata": {},
   "source": [
    "The name said it all, I open the developer tools in chrome and seach of the flag in the HTML code.  \n",
    "  \n",
    "![Graph1](HTML.png)"
   ]
  }
 ],
 "metadata": {
  "kernelspec": {
   "display_name": "Python 3",
   "language": "python",
   "name": "python3"
  },
  "language_info": {
   "codemirror_mode": {
    "name": "ipython",
    "version": 3
   },
   "file_extension": ".py",
   "mimetype": "text/x-python",
   "name": "python",
   "nbconvert_exporter": "python",
   "pygments_lexer": "ipython3",
   "version": "3.9.13"
  }
 },
 "nbformat": 4,
 "nbformat_minor": 2
}
