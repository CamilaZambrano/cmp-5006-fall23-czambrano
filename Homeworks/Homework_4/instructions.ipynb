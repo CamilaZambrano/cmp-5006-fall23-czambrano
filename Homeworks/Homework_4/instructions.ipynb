{
 "cells": [
  {
   "cell_type": "markdown",
   "metadata": {},
   "source": [
    "## Homework 4\n",
    "\n",
    "### Information Security"
   ]
  },
  {
   "cell_type": "markdown",
   "metadata": {},
   "source": [
    "### Instructions:\n",
    "\n",
    "For this homework, you will work in groups of 5 people. You are expected to include with your submission the following details:\n",
    "\n",
    "1. A URL to the GitHub page containing your group's assignment\n",
    "2. Each member of the team will submit a grade (0 to 100) for the team members based on the amount of work that each member contributed"
   ]
  },
  {
   "cell_type": "markdown",
   "metadata": {},
   "source": [
    "### 1. Design the system components of a drive sharing application (ex: Uber, Lyft). Specify what elements are necessary for this application to work. \n",
    "\n",
    "- Your design must include a block diagram of each of the components to have the application needs to operate.\n",
    "- In your design, you must provide a list of the data that you need to collect for the operation of the application. For each, provide a description of why you need this data. Examples:\n",
    "    - who are the users of your application? what kind of information do you need of each of them?\n",
    "    - what data do you need to make the user experience better? Examples: better ride experience, shorter wait time, faster routes, etc\n",
    "    - what kind of data do you need to collect to measure the performance and efficiency of the application? \n",
    "    - what about payment and tipping?\n",
    "\n",
    "- Include a privacy design for the application. \n",
    "    - For all the data that is being collected, what can be seen and by whom? \n",
    "    - What information should have restricted access? \n",
    "    - what information should not be seen by anyone?\n",
    "    \n",
    "- Assume you are a pen-tester and you are in charge of testing the privacy design proposed.\n",
    "    - What are the risks if you are able to get access to the app as a user, as an admin, and as developer?\n",
    "    - In any of these cases, what are the ways that an attacker can provoke a privacy breach? What kind of attacks can be used to accomplish this.\n",
    "    - Write an ethical analysis of the consequences of a privacy breach of the app for each of the cases above."
   ]
  },
  {
   "cell_type": "markdown",
   "metadata": {},
   "source": [
    "### 2. Your drive sharing company has decided to sell users data to advertisers. \n",
    "\n",
    "- You have been asked to loosen up your design so that data can be sold to advertisers. Additionally, your manager has asked you to provide a list of data that can be sold, so the advertisers can maximize the accuracy of the ads. \n",
    "- Provide the details of the new privacy design following the same principles you used for the original design.\n",
    "- Repeat the pen-tester exercise done for the original design. \n",
    "- Write an ethical analysis of the consequences of selling this data to adverstisers. "
   ]
  }
 ],
 "metadata": {
  "language_info": {
   "name": "python"
  }
 },
 "nbformat": 4,
 "nbformat_minor": 2
}
