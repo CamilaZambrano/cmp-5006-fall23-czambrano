{
 "cells": [
  {
   "cell_type": "markdown",
   "metadata": {},
   "source": [
    "# Homework 1: picoCTF Challenges 1"
   ]
  },
  {
   "cell_type": "code",
   "execution_count": 7,
   "metadata": {},
   "outputs": [
    {
     "name": "stdout",
     "output_type": "stream",
     "text": [
      "Decrypted Mod26: picoCTF{next_time_I'll_try_2_rounds_of_rot13_Aphnytiq}\n",
      "Decrypted 13: picoCTF{not_too_bad_of_a_problem}\n"
     ]
    }
   ],
   "source": [
    "#Mod26 and 13\n",
    "def shift_cipher_decrypt(ciphertext, shift):\n",
    "    plaintext = \"\"\n",
    "    \n",
    "    for char in ciphertext:\n",
    "        if char.isalpha():\n",
    "            base = ord('a') if char.islower() else ord('A')\n",
    "            decrypted_char = chr((ord(char) - base - shift) % 26 + base)\n",
    "        else:\n",
    "            decrypted_char = char\n",
    "        \n",
    "        plaintext += decrypted_char\n",
    "    \n",
    "    return plaintext\n",
    "\n",
    "ciferMod26 = \"cvpbPGS{arkg_gvzr_V'yy_gel_2_ebhaqf_bs_ebg13_Ncualgvd}\"\n",
    "cifer13= \"cvpbPGS{abg_gbb_onq_bs_n_ceboyrz}\"\n",
    "shift = 13\n",
    "\n",
    "encrypted_Mod26 = shift_cipher_decrypt(ciferMod26, shift)\n",
    "encrypted_13 = shift_cipher_decrypt(cifer13, shift)\n",
    "\n",
    "print(\"Decrypted Mod26:\", encrypted_Mod26)\n",
    "print(\"Decrypted 13:\", encrypted_13)"
   ]
  },
  {
   "cell_type": "code",
   "execution_count": 4,
   "metadata": {},
   "outputs": [
    {
     "name": "stdout",
     "output_type": "stream",
     "text": [
      "75302b38697a8717f0faee9c0fd36a57\n"
     ]
    }
   ],
   "source": [
    "#Easy Peasy\n",
    "unknownEncrypt = \"551257106e1a52095f654f510a6b4954026c1e0304394100043a1c5654505b6b\"\n",
    "lenth = len(unknownEncrypt) // 2  \n",
    "knowDecrypt = b'C' * lenth \n",
    "\n",
    "##Conect to server\n",
    "#Console putput:\n",
    "\n",
    "#Microsoft Windows [Versión 10.0.19045.3324]\n",
    "#(c) Microsoft Corporation. Todos los derechos reservados.\n",
    "\n",
    "#C:\\Users\\DELL>python -c \"print('C'*49968); print('C'*32)\" | ncat mercury.picoctf.net 36449\n",
    "#******************Welcome to our OTP implementation!******************\n",
    "#This is the encrypted flag!\n",
    "#551257106e1a52095f654f510a6b4954026c1e0304394100043a1c5654505b6b\n",
    "\n",
    "#What data would you like to encrypt? Here ya go!\n",
    "#3b7b731f3b22201f3b72201f3b20251f3b7a2226603f006b1f3b21217b ... f3b2727601f3b22201f3b22251c\n",
    "\n",
    "#What data would you like to encrypt? Here ya go!\n",
    "#216427631f3b22722a1f3b73711f3b20271f3b21221f3b20771f3b2621722d1f\n",
    "\n",
    "##continue using server decription\n",
    "knowEncrypt = \"216427631f3b22722a1f3b73711f3b20271f3b21221f3b20771f3b2621722d1f\"\n",
    "enc_flag = bytes.fromhex(unknownEncrypt)\n",
    "enc_known = bytes.fromhex(knowEncrypt)\n",
    "\n",
    "##made the bytes into a list so I can do the bytewise xor operation\n",
    "byte1_int = list(enc_flag)\n",
    "byte2_int = list(enc_known)\n",
    "byte3_int = list(knowDecrypt) \n",
    "\n",
    "##made the xor opreations\n",
    "key = [a ^ b for a, b in zip(byte2_int, byte3_int)]\n",
    "answer = [a ^ b for a, b in zip(byte1_int, key)]\n",
    "\n",
    "#change the answer back to bytes\n",
    "final_answer = bytes(answer)\n",
    "print(final_answer.decode())"
   ]
  },
  {
   "cell_type": "code",
   "execution_count": 13,
   "metadata": {},
   "outputs": [
    {
     "name": "stdout",
     "output_type": "stream",
     "text": [
      "picoctfthenumbersmason\n"
     ]
    }
   ],
   "source": [
    "#The Numbers\n",
    "letters = {\n",
    "    1: 'a', 2: 'b', 3: 'c', 4: 'd', 5: 'e', 6: 'f', 7: 'g', 8: 'h', 9: 'i',\n",
    "    10: 'j', 11: 'k', 12: 'l', 13: 'm', 14: 'n', 15: 'o', 16: 'p', 17: 'q',\n",
    "    18: 'r', 19: 's', 20: 't', 21: 'u', 22: 'v', 23: 'w', 24: 'x', 25: 'y', 26: 'z'\n",
    "}\n",
    "\n",
    "input = [16, 9, 3, 15, 3, 20, 6, 20, 8, 5, 14, 21, 13, 2, 5, 18, 19, 13, 1, 19, 15, 14]\n",
    "decrypted = ''.join([letters[number] for number in input])\n",
    "\n",
    "print(decrypted)"
   ]
  },
  {
   "cell_type": "code",
   "execution_count": 20,
   "metadata": {},
   "outputs": [
    {
     "name": "stdout",
     "output_type": "stream",
     "text": [
      "Key: a    Flag: ËÚµÚÛµÌËÇÊÈÊÊÊËÇÉ\n",
      "Key: b    Flag: ÜëÆëì¦Æ¬®©ªÝ«Ü®¨Ø§®ª­ÛªÙ¨Û¨ ÛÛÜ«©® ØÚ§ª\n",
      "Key: c    Flag: íü×üý·×½¿º»î¼í¿¹é¸¿»¾ì»ê¹ì¹±ììí¼º¿±éë¸»\n",
      "\u000eÈèÎÀËÌÿÍþÀÊúÉÀÌÏýÌûÊýÊÂýýþÍËÀÂúüÉÌ\n",
      "ÚÝy: e    Flag: \u000f\u001eù\u001e\u001fÙùßÑÜÝ\u0000Þ\u000fÑÛ\u000bÚÑÝÐ\u000eÝ\fÛ\u000eÛÓ\u000e\u000e\u000fÞÜÑÓ\u000b\n",
      "Key: f    Flag: \u0010/\n",
      "/ ê\n",
      "àâíî\u0011ï\u0010âì\u001cëâîá\u001fî\u001dì\u001fìä\u001f\u001f\u0010ïíâä\u001c\u001eëî\n",
      "Key: g    Flag: !0\u001b01û\u001bñóþÿ\"ð!óý-üóÿò ÿ.ý ýõ  !ðþóõ-/üÿ\n",
      "\u0000\u0000\u00031\u0000?\u000e1\u000e\u0006112\u0001\u000f\u0004\u0006>0AB\f,\u0002\u0004\u000f\u00003\u00012\u0004\u000e>\n",
      "Key: i    Flag: CR=RS\u001d=\u0013\u0015\u0010\u0011D\u0012C\u0015\u001fO\u001e\u0015\u0011\u0014B\u0011@\u001fB\u001f\u0017BBC\u0012\u0010\u0015\u0017OA\u001e\u0011\n",
      "Key: j    Flag: TcNcd.N$&!\"U#T& P/&\"%S\"Q S (SST#!&(PR/\"\n",
      "Key: k    Flag: et_tu?_5723f4e71a0736d3b1d19dde4279ac03\n",
      "Key: l    Flag: v`@`FHCDwEvHBrAHDGuDsBuBJuuvECHJrtAD\n",
      "Key: m    Flag: qQqWYTUVYSRYUXUSS[VTY[RU\n",
      "Key: n    Flag: §§¨bhjefgjdcjfifddlgejlcf\n",
      "Key: o    Flag: ©¸¸¹sy{vwªx©{u¥t{wz¨w¦u¨u}¨¨©xv{}¥§tw\n",
      "Key: p    Flag: ºÉ¤ÉÊ¤»º¶¹·¹¹¹º¶¸\n"
     ]
    }
   ],
   "source": [
    "#New Cesar - Key: k Flag: et_tu?_5723f4e71a0736d3b1d19dde4279ac03 - only one that dosen't have strange chatacters\n",
    "import new_caesar as nc #import the new_ceasar code that was provided\n",
    "\n",
    "##change the b16 code to decrypt \n",
    "def b16_decode(enc):\n",
    "    dec = \"\"\n",
    "    for i in range(0, len(enc), 2):\n",
    "        binary = \"{0:04b}\".format(nc.ALPHABET.index(enc[i])) + \"{0:04b}\".format(nc.ALPHABET.index(enc[i+1]))\n",
    "        dec = dec + chr(int(binary, 2))\n",
    "    return dec\n",
    "\n",
    "encrypted = \"mlnklfnknljflfjljnjijjmmjkmljnjhmhjgjnjjjmmkjjmijhmkjhjpmkmkmljkjijnjpmhmjjgjj\"\n",
    "\n",
    "##try all the keys from a to p\n",
    "for key in nc.ALPHABET:\n",
    "    flag = \"\"\n",
    "    for i in encrypted:\n",
    "        flag = flag + nc.shift(i, key)\n",
    "    print(\"Key:\", key, \"   Flag:\", b16_decode(flag))"
   ]
  },
  {
   "cell_type": "code",
   "execution_count": 5,
   "metadata": {},
   "outputs": [
    {
     "name": "stdout",
     "output_type": "stream",
     "text": [
      "Key 0: gvswwmrkxlivyfmgsrhnrisegl\n",
      "Key 1: furvvlqjwkhuxelfrqgmqhrdfk\n",
      "Key 2: etquukpivjgtwdkeqpflpgqcej\n",
      "Key 3: dspttjohuifsvcjdpoekofpbdi\n",
      "Key 4: crossingtherubicondjneoach\n",
      "Key 5: bqnrrhmfsgdqtahbnmcimdnzbg\n",
      "Key 6: apmqqglerfcpszgamlbhlcmyaf\n",
      "Key 7: zolppfkdqeboryfzlkagkblxze\n",
      "Key 8: ynkooejcpdanqxeykjzfjakwyd\n",
      "Key 9: xmjnndiboczmpwdxjiyeizjvxc\n",
      "Key 10: wlimmchanbylovcwihxdhyiuwb\n",
      "Key 11: vkhllbgzmaxknubvhgwcgxhtva\n",
      "Key 12: ujgkkafylzwjmtaugfvbfwgsuz\n",
      "Key 13: tifjjzexkyvilsztfeuaevfrty\n",
      "Key 14: sheiiydwjxuhkrysedtzdueqsx\n",
      "Key 15: rgdhhxcviwtgjqxrdcsyctdprw\n",
      "Key 16: qfcggwbuhvsfipwqcbrxbscoqv\n",
      "Key 17: pebffvatgurehovpbaqwarbnpu\n",
      "Key 18: odaeeuzsftqdgnuoazpvzqamot\n",
      "Key 19: nczddtyrespcfmtnzyouypzlns\n",
      "Key 20: mbyccsxqdrobelsmyxntxoykmr\n",
      "Key 21: laxbbrwpcqnadkrlxwmswnxjlq\n",
      "Key 22: kzwaaqvobpmzcjqkwvlrvmwikp\n",
      "Key 23: jyvzzpunaolybipjvukqulvhjo\n",
      "Key 24: ixuyyotmznkxahoiutjptkugin\n",
      "Key 25: hwtxxnslymjwzgnhtsiosjtfhm\n"
     ]
    }
   ],
   "source": [
    "#Caesar - Key 4: crossingtherubicondjneoach - only one that made some sense\n",
    "\n",
    "def caesar_decrypt(ciphertext, key):\n",
    "    decrypted_text = \"\"\n",
    "    for char in ciphertext:\n",
    "        if char.isalpha():\n",
    "            is_upper = char.isupper()\n",
    "            char = char.lower()\n",
    "            decrypted_char = chr(((ord(char) - ord('a') - key) % 26) + ord('a'))\n",
    "            if is_upper:\n",
    "                decrypted_char = decrypted_char.upper()\n",
    "            decrypted_text += decrypted_char\n",
    "        else:\n",
    "            decrypted_text += char\n",
    "    return decrypted_text\n",
    "\n",
    "##use brute force to decrypt (try all 26 keys, because there are 26 letters in the alphabet)\n",
    "def brute_force(ciphertext):\n",
    "    for key in range(26): \n",
    "        decrypted_text = caesar_decrypt(ciphertext, key)\n",
    "        print(f\"Key {key}: {decrypted_text}\")\n",
    "\n",
    "ciphertext = \"gvswwmrkxlivyfmgsrhnrisegl\"\n",
    "brute_force(ciphertext)"
   ]
  },
  {
   "cell_type": "code",
   "execution_count": 33,
   "metadata": {},
   "outputs": [
    {
     "name": "stdout",
     "output_type": "stream",
     "text": [
      "CRYPTOISFUN\n"
     ]
    }
   ],
   "source": [
    "#Easy1\n",
    "table = {\n",
    "    'A': 'ABCDEFGHIJKLMNOPQRSTUVWXYZ',\n",
    "    'B': 'BCDEFGHIJKLMNOPQRSTUVWXYZA',\n",
    "    'C': 'CDEFGHIJKLMNOPQRSTUVWXYZAB',\n",
    "    'D': 'DEFGHIJKLMNOPQRSTUVWXYZABC',\n",
    "    'E': 'EFGHIJKLMNOPQRSTUVWXYZABCD',\n",
    "    'F': 'FGHIJKLMNOPQRSTUVWXYZABCDE',\n",
    "    'G': 'GHIJKLMNOPQRSTUVWXYZABCDEF',\n",
    "    'H': 'HIJKLMNOPQRSTUVWXYZABCDEFG',\n",
    "    'I': 'IJKLMNOPQRSTUVWXYZABCDEFGH',\n",
    "    'J': 'JKLMNOPQRSTUVWXYZABCDEFGHI',\n",
    "    'K': 'KLMNOPQRSTUVWXYZABCDEFGHIJ',\n",
    "    'L': 'LMNOPQRSTUVWXYZABCDEFGHIJK',\n",
    "    'M': 'MNOPQRSTUVWXYZABCDEFGHIJKL',\n",
    "    'N': 'NOPQRSTUVWXYZABCDEFGHIJKLM',\n",
    "    'O': 'OPQRSTUVWXYZABCDEFGHIJKLMN',\n",
    "    'P': 'PQRSTUVWXYZABCDEFGHIJKLMNO',\n",
    "    'Q': 'QRSTUVWXYZABCDEFGHIJKLMNOP',\n",
    "    'R': 'RSTUVWXYZABCDEFGHIJKLMNOPQ',\n",
    "    'S': 'STUVWXYZABCDEFGHIJKLMNOPQR',\n",
    "    'T': 'TUVWXYZABCDEFGHIJKLMNOPQRS',\n",
    "    'U': 'UVWXYZABCDEFGHIJKLMNOPQRST',\n",
    "    'V': 'VWXYZABCDEFGHIJKLMNOPQRSTUV',\n",
    "    'W': 'WXYZABCDEFGHIJKLMNOPQRSTUVW',\n",
    "    'X': 'XYZABCDEFGHIJKLMNOPQRSTUVWX',\n",
    "    'Y': 'YZABCDEFGHIJKLMNOPQRSTUVWXY',\n",
    "    'Z': 'ZABCDEFGHIJKLMNOPQRSTUVWXYA'\n",
    "}\n",
    "encrypted = \"UFJKXQZQUNB\"\n",
    "key = \"SOLVECRYPTO\"\n",
    "\n",
    "decrypted = \"\"\n",
    "for i in range(len(encrypted)):\n",
    "    encrypted_char = encrypted[i]\n",
    "    key_char = key[i % len(key)]\n",
    "    table_row = table[key_char]\n",
    "    decrypted_char = table_row.index(encrypted_char)\n",
    "    alphabet = table['A']\n",
    "    decrypted += alphabet[decrypted_char]\n",
    "\n",
    "print(decrypted)"
   ]
  },
  {
   "cell_type": "markdown",
   "metadata": {},
   "source": [
    "### Spelling Quiz\n",
    "\n",
    "Using the library subbreaker from https://gitlab.com/guballa/SubstitutionBreaker\n",
    "\n",
    "#### Finding the key: \n",
    "PS C:\\Users\\DELL\\Computer Security\\cmp-5006-fall23-czambrano> subbreaker break --lang EN --text (cat \"Homeworks\\Homework_1\\public\\study-guide-united.txt\")   \n",
    "Alphabet: abcdefghijklmnopqrstuvwxyz  \n",
    "Key:      xunmrydfwjglstibhcavopezqk  \n",
    "Fitness: 92.78  \n",
    "Nbr keys tried: 5850  \n",
    "Keys per second: 18462  \n",
    "Execution time (seconds): 0.317  \n",
    "Plaintext:  \n",
    "kurchicine malfeasor greenheart baptistry litorinoid vindicatory stockrooms flindersia disagreeability frohlich disamenity outsparspying preinclination melanizing preobedient chloralformamide nonelectrolytic ascertainable thoracoplasties pinnaclet paperweights incarnation nonpuerility unprefined brasslike transpositive glycerol idolatrizer hyperoartia \n",
    "perimedullary rendition monstricide extraspectral monumentally cholehematin overrealism dinnerless carpellum barrulee \n",
    "extrovertedness necessar evincing perspectivism plasmolyzability noctilucal intertarsal essoinment paratypic borstall \n",
    "misadressing\n",
    "\n",
    "#### Decrypting flag first attempt:\n",
    "PS C:\\Users\\DELL\\Computer Security\\cmp-5006-fall23-czambrano> subbreaker decode --key xunmrydfwjglstibhcavopezqk --text \"brcfxba_vfr_mid_hosbrm_iprc_exa_hoav_vwcrm\"\n",
    "perhaps_the_dog_qumped_over_was_qust_tired\n",
    "\n",
    "#### Made an adjustment to change the q to a j, so swap h and j:\n",
    "alphabet: abcdefghijklmnopqrstuvwyxz  \n",
    "old key:  xunmrydfwjglstibhcavopezqk  \n",
    "new key:  xunmrydfwhglstibjcavopezqk\n",
    "\n",
    "#### Decrypting flag second attempt:\n",
    "PS C:\\Users\\DELL\\Computer Security\\cmp-5006-fall23-czambrano> subbreaker decode --key xunmrydfwhglstibjcavopezqk --text \"brcfxba_vfr_mid_hosbrm_iprc_exa_hoav_vwcrm\"\n",
    "perhaps_the_dog_jumped_over_was_just_tired"
   ]
  }
 ],
 "metadata": {
  "kernelspec": {
   "display_name": "Python 3",
   "language": "python",
   "name": "python3"
  },
  "language_info": {
   "codemirror_mode": {
    "name": "ipython",
    "version": 3
   },
   "file_extension": ".py",
   "mimetype": "text/x-python",
   "name": "python",
   "nbconvert_exporter": "python",
   "pygments_lexer": "ipython3",
   "version": "3.9.13"
  },
  "orig_nbformat": 4
 },
 "nbformat": 4,
 "nbformat_minor": 2
}
