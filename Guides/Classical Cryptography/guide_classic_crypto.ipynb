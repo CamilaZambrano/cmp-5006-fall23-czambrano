{
 "cells": [
  {
   "cell_type": "markdown",
   "metadata": {},
   "source": [
    "# Work Guide: Classical Cryptography"
   ]
  },
  {
   "cell_type": "markdown",
   "metadata": {},
   "source": [
    "## Part 1: Research Topics\n",
    "In this section, you will research various classical cryptography topics. Each topic has a set of questions to guide your learning. Avoid repetition and ensure that the questions are slightly different for each topic."
   ]
  },
  {
   "cell_type": "markdown",
   "metadata": {},
   "source": [
    "### 1. The Shift Cipher\n",
    "\n",
    "**1. What is the shift cipher and how does it work?**  \n",
    "It is a simple and historically significant method of It is a substitution encryption, it works by using the modulo operator to encrypt and decrypt messages. The cipher has a key K, which is an integer from 0 to 25.\n",
    "\n",
    "**2. How can you encrypt and decrypt messages using the shift cipher?**  \n",
    "The encryption process works by choosing a key, which is an integer representing the number of positions to shift, then taking each letter in the plaintext and shift it by the key value. If the shift takes a letter beyond the end of the alphabet, start again with the letter A.  \n",
    "\n",
    "The decryption process works by using the same key value, but shift the letters in the opposite direction.  \n",
    "\n",
    "Important things:  \n",
    "Maintain the letter's case (uppercase or lowercase) during the shift.\n",
    "Spaces and punctuation are usually left unchanged.  \n",
    "To decript do it up the alphabet if you previously shifted down, and vice versa.\n",
    "\n",
    "**3. What are the limitations and vulnerabilities of the shift cipher?**  \n",
    "The limitations and vulnerabilities are: \n",
    "- There are limited key space because the alphabet has only 26 letters, so there are only 25 possible keys (k = 0 doesn't change the text). This makes it susceptible to brute-force attacks.\n",
    "- Because of it's simplicity and becuase it can easily broken using modern encryption techniques, is not suitable for secure communications.\n",
    "- Because the cipher only involves substitution, it's vulnerable to frequency analysis, which means that the letters have predictable frequency distributions. Thus, an attacker can analyze the frequencies of letters in the ciphertext and deduce the key.\n",
    "\n",
    "**4. Can you provide an example of a real-world application of the shift cipher?**  \n",
    "This cipher is not save to used in today's world, but it can serve as a teaching tool to introduce the concepts of cryptography and encryption or in puzzle games. \n",
    "\n",
    "**5. How does the shift cipher relate to modular arithmetic?**  \n",
    "There is a relationship between the cipher and the modular arithmetic, when shifting letters in the alphabet, the \"modulo\" operation is implicitly used. In the English alphabet with 26 letters, shifting by 3 positions can be expressed as (letter_index + 3) % 26, where letter_index is the position of the letter in the alphabet. The modulo operation ensures that the shifted letter wraps around to the beginning of the alphabet if it goes beyond 'Z'. This concept is a fundamental aspect of modular arithmetic.\n",
    "\n",
    "Sources: \n",
    "- Khan Academy, 2013 - https://www.khanacademy.org/computing/computer-science/cryptography/ciphers/a/shift-cipher\n",
    "- Arizona State University, s/f. - https://math.asu.edu/sites/default/files/shift.pdf\n",
    "- Geeks for Geeks, 2023 - https://www.geeksforgeeks.org/caesar-cipher-in-cryptography/\n",
    "- Stony Brook University, 2005 - https://www.math.stonybrook.edu/~scott/papers/MSTP/crypto/3Caesar_Cipher.html"
   ]
  },
  {
   "cell_type": "markdown",
   "metadata": {},
   "source": [
    "### 2. The Substitution Cipher\n",
    "\n",
    "**1. What is the substitution cipher and how does it differ from the shift cipher?**  \n",
    "Is a type of encryption technique in which each letter in the plaintext is replaced with another letter, symbol, or number. For example, 'A' might be replaced with 'X,' 'B' with 'Q,' and so on. Substitution ciphers can be more complex than simple letter-for-letter replacements. So the main difference between these cifers is that in one (shift) each letter in the plaintext is shifted a fixed number of positions down or up the alphabet, and in the other (substitution) the letter are replace with any character. \n",
    "\n",
    "**2. How can you create a substitution cipher using a keyword or a random permutation?**  \n",
    "Keyword or phrase:    \n",
    "Create a unique mapping of each letter in the alphabet to a letter in the keyword or phrase. Repeated letters are omitted, and the remaining letters are added to the end. For example, if the keyword is \"KEYWORD,\" the mapping might look like this:\n",
    "\n",
    "- Plain: ABCDEFGHIJKLMNOPQRSTUVWXYZ\n",
    "- Cipher: KEYWORDABCFGHIJLMNPQSTUVXZ\n",
    "\n",
    "Random Permutation:  \n",
    "Shuffle the letters of the alphabet to create a one-to-one mapping, this will be your encyption key. The recipient of the message would need the same key to decrypt the message.\n",
    "\n",
    "**3. What are the advantages and disadvantages of the substitution cipher?**  \n",
    "Advantages:\n",
    "- Easy to understand and implement.\n",
    "- Can provide a basic level of security for casual communication.\n",
    "- Different keys can be used for different messages.\n",
    "- Has a lot of combinations to choose from to encrypt.\n",
    "\n",
    "Disadvantages:\n",
    "- Vulnerable to frequency analysis, making it relatively easy to break.\n",
    "- Limited key space, especially for smaller alphabets.\n",
    "- Not suitable for securing sensitive or important data.\n",
    "\n",
    "**4. How can frequency analysis be used to break a substitution cipher?**  \n",
    "It can break it by analyzing the frequency at which letters or symbols appear in the cipher text. By identifying patterns in the cipher text, such as the most frequently occurring symbol, guesses can be made about the substitutions used and eventually decode the message. In most natural languages, certain letters occur more frequently than others. For examples in english 'E' is the most common letter. \n",
    "\n",
    "**5. Can you provide an example of a historical use of the substitution cipher?**  \n",
    "The nomenclator chifer is an example. It was named after the public official who announced the titles of visiting dignitaries, this cipher uses a small code sheet containing letter, syllable and word substitution tables, sometimes homophonic, that typically converted symbols into numbers. Nomenclators were the standard fare of diplomatic correspondence, espionage, and advanced political conspiracy from the early fifteenth century to the late eighteenth century. \n",
    "\n",
    "Sources:\n",
    "- Perdue University, s/f - https://www.cs.purdue.edu/homes/ninghui/courses/Fall05/lectures/355_Fall05_lect02.pdf\n",
    "- Quora, s/f - https://www.quora.com/What-are-some-examples-of-substitution-ciphers-that-use-a-key-word\n",
    "- Tumblr, s/f - https://www.tumblr.com/spookiestbook/186205190003/substitution-ciphers-strengths-and-weaknesses\n",
    "- 101 Computing, s/f - https://www.101computing.net/frequency-analysis/#:~:text=When%20trying%20to%20decrypt%20a,the%20letters%20in%20the%20text.\n",
    "- Wikipedia, s/f - https://en.wikipedia.org/wiki/Substitution_cipher"
   ]
  },
  {
   "cell_type": "markdown",
   "metadata": {},
   "source": [
    "### 3. The Affine Cipher\n",
    "\n",
    "**1. What is the affine cipher and how does it combine the shift and substitution ciphers?**  \n",
    "Is a type of monoalphabetic substitution cipher that combines elements of both the shift cipher and substitution cipher. In the affine cipher, each letter in the plaintext is mapped to a new letter based on a mathematical formula.  \n",
    "  \n",
    "It uses two main components, a key pair (a, b), where:\n",
    "- 'a' is a multiplicative factor\n",
    "- 'b' is an additive factor\n",
    "\n",
    "**2. How can you encrypt and decrypt messages using the affine cipher?**  \n",
    "\n",
    "\n",
    "**3. What are the advantages and vulnerabilities of the affine cipher?**  \n",
    "Advantages:\n",
    "- It offers a larger key space compared to simple substitution ciphers, making it more secure.\n",
    "- It combines multiplication and addition, which adds complexity and resistance to frequency analysis.\n",
    "- The key (a, b) allows for various encryption configurations, making it adaptable.\n",
    "\n",
    "Vulnerabilities:\n",
    "- It is still susceptible to known-plaintext attacks and other cryptanalysis techniques.\n",
    "- The security depends on the choice of 'a' and 'b,' and if they are not carefully chosen, the cipher may be weak.\n",
    "- The affine cipher is not as strong as more modern encryption methods, like block ciphers.\n",
    "\n",
    "**4. How can you break the affine cipher using known plaintext attacks?**  \n",
    "\n",
    "\n",
    "**5. Can you provide an example of a practical use of the affine cipher?**  \n",
    "I cound find any practical uses on the internet that mentioned specificly this cypher, but I imagine that it could have been used in military communication during early periods when stronger encryption methods were not available.\n",
    "\n",
    "Sources:\n",
    "- Geeks for Geeks, 2023 - https://www.geeksforgeeks.org/implementation-affine-cipher/#:~:text=The%20Affine%20cipher%20is%20a,converted%20back%20to%20a%20letter.\n",
    "- Practical Cryptography, 2013 - http://practicalcryptography.com/ciphers/affine-cipher/\n",
    "- YouTube, 2015 - https://www.youtube.com/watch?v=ry3g0xN8QKU\n",
    "- Stack Exchange, 2017 - https://crypto.stackexchange.com/questions/43399/have-affine-ciphers-actually-been-used-in-practice"
   ]
  },
  {
   "cell_type": "markdown",
   "metadata": {},
   "source": [
    "### 4. The Hill Cipher\n",
    "\n",
    "1. What is the Hill cipher and how does it differ from previous ciphers?\n",
    "2. How can you encrypt and decrypt messages using the Hill cipher?\n",
    "3. What are the advantages and limitations of the Hill cipher?\n",
    "4. How does the Hill cipher utilize matrix operations?\n",
    "5. Can you provide an example of a real-world application of the Hill cipher?"
   ]
  },
  {
   "cell_type": "markdown",
   "metadata": {},
   "source": [
    "### 5. The Permutation Cipher\n",
    "\n",
    "1. What is the permutation cipher and how does it work?\n",
    "2. How can you encrypt and decrypt messages using the permutation cipher?\n",
    "3. What are the strengths and weaknesses of the permutation cipher?\n",
    "4. How can you break the permutation cipher using brute force or frequency analysis?\n",
    "5. Can you provide an example of a historical use of the permutation cipher?"
   ]
  },
  {
   "cell_type": "markdown",
   "metadata": {},
   "source": [
    "### 6. LFSR Stream Cipher\n",
    "\n",
    "1. What is an LFSR stream cipher and how does it generate a keystream?\n",
    "2. How can you encrypt and decrypt messages using an LFSR stream cipher?\n",
    "3. What are the advantages and vulnerabilities of an LFSR stream cipher?\n",
    "4. How can you break an LFSR stream cipher using known plaintext attacks?\n",
    "5. Can you provide an example of a modern use of an LFSR stream cipher?"
   ]
  },
  {
   "cell_type": "markdown",
   "metadata": {},
   "source": [
    "## Part 2: Cryptanalysis Research\n",
    "In this section, you will research various cryptanalysis techniques for classical ciphers. Each topic has a set of questions to guide your learning."
   ]
  },
  {
   "cell_type": "markdown",
   "metadata": {},
   "source": [
    "### 1. Introduction to Cryptanalysis\n",
    "\n",
    "1. What is cryptanalysis and why is it important in cybersecurity?\n",
    "2. What are the different types of cryptanalysis techniques?\n",
    "3. How does cryptanalysis differ from cryptography?\n",
    "4. Can you provide an example of a famous cryptanalysis success story?\n",
    "5. What are the ethical considerations in cryptanalysis?"
   ]
  },
  {
   "cell_type": "markdown",
   "metadata": {},
   "source": [
    "### 2. The Shift Cipher\n",
    "\n",
    "1. How can you break the shift cipher using brute force?\n",
    "2. What is the vulnerability of the shift cipher to frequency analysis?\n",
    "3. How can you improve the security of the shift cipher?\n",
    "4. Can you provide an example of a real-world attack on the shift cipher?\n",
    "5. What are the limitations of cryptanalysis on the shift cipher?"
   ]
  },
  {
   "cell_type": "markdown",
   "metadata": {},
   "source": [
    "\n",
    "### 3. The Affine Cipher\n",
    "\n",
    "1. How can you break the affine cipher using known plaintext attacks?\n",
    "2. What is the vulnerability of the affine cipher to modular inverses?\n",
    "3. How can you improve the security of the affine cipher?\n",
    "4. Can you provide an example of a real-world attack on the affine cipher?\n",
    "5. What are the limitations of cryptanalysis on the affine cipher?"
   ]
  },
  {
   "cell_type": "markdown",
   "metadata": {},
   "source": [
    "### 4. The Substitution Cipher\n",
    "\n",
    "1. How can you break the substitution cipher using frequency analysis?\n",
    "2. What is the vulnerability of the substitution cipher to known plaintext attacks?\n",
    "3. How can you improve the security of the substitution cipher?\n",
    "4. Can you provide an example of a real-world attack on the substitution cipher?\n",
    "5. What are the limitations of cryptanalysis on the substitution cipher?"
   ]
  },
  {
   "cell_type": "markdown",
   "metadata": {},
   "source": [
    "### 5. The Hill Cipher\n",
    "\n",
    "1. How can you break the Hill cipher using matrix algebra?\n",
    "2. What is the vulnerability of the Hill cipher to key length?\n",
    "3. How can you improve the security of the Hill cipher?\n",
    "4. Can you provide an example of a real-world attack on the Hill cipher?\n",
    "5. What are the limitations of cryptanalysis on the Hill cipher?"
   ]
  },
  {
   "cell_type": "markdown",
   "metadata": {},
   "source": [
    "\n",
    "### 6. The Permutation Cipher\n",
    "\n",
    "1. How can you break the permutation cipher using brute force or frequency analysis?\n",
    "2. What is the vulnerability of the permutation cipher to known plaintext attacks?\n",
    "3. How can you improve the security of the permutation cipher?\n",
    "4. Can you provide an example of a real-world attack on the permutation cipher?\n",
    "5. What are the limitations of cryptanalysis on the permutation cipher?"
   ]
  },
  {
   "cell_type": "markdown",
   "metadata": {},
   "source": [
    "### 7. LFSR Stream Cipher\n",
    "\n",
    "1. How can you break an LFSR stream cipher using known plaintext attacks?\n",
    "2. What is the vulnerability of an LFSR stream cipher to key length?\n",
    "3. How can you improve the security of an LFSR stream cipher?\n",
    "4. Can you provide an example of a real-world attack on an LFSR stream cipher?\n",
    "5. What are the limitations of cryptanalysis on an LFSR stream cipher?"
   ]
  },
  {
   "cell_type": "markdown",
   "metadata": {},
   "source": [
    "# Lab Guide: Cryptography Programming Exercises\n",
    "## Classic Cryptography Topics"
   ]
  },
  {
   "cell_type": "markdown",
   "metadata": {},
   "source": [
    "### 1. Shift Cipher\n",
    "#### Exercise:\n",
    "Write a Python function `shift_cipher_encrypt(plaintext, shift)` that takes a plaintext string and a shift value as input and returns the corresponding ciphertext using the shift cipher.\n",
    "\n",
    "#### Example:\n",
    "> - Plaintext: \"HELLO\"\n",
    "> - Shift: 3\n",
    "> - Ciphertext: \"KHOOR\"\n",
    "\n",
    "> - Plaintext: \"WORLD\"\n",
    "> - Shift: 5\n",
    "> - Ciphertext: \"BTWQI\""
   ]
  },
  {
   "cell_type": "code",
   "execution_count": 8,
   "metadata": {},
   "outputs": [
    {
     "name": "stdout",
     "output_type": "stream",
     "text": [
      "Encrypted 1: KHOOR\n",
      "Encrypted 2: BTWQI\n"
     ]
    }
   ],
   "source": [
    "def shift_cipher_encrypt(plaintext, shift):\n",
    "    ciphertext = \"\"\n",
    "    \n",
    "    for char in plaintext:\n",
    "        #isalpha() is a method to checking if a string or char contains only letters\n",
    "        if char.isalpha():\n",
    "            #ord() return the unicode, islower() checks if this lowercase\n",
    "            base = ord('a') if char.islower() else ord('A')\n",
    "            shifted_char = chr((ord(char) - base + shift) % 26 + base)\n",
    "        else:\n",
    "            shifted_char = char\n",
    "        \n",
    "        ciphertext += shifted_char\n",
    "    \n",
    "    return ciphertext\n",
    "\n",
    "plaintext = \"HELLO\"\n",
    "plaintext1 = \"WORLD\"\n",
    "\n",
    "shift = 3\n",
    "shift1 = 5\n",
    "\n",
    "encrypted_text = shift_cipher_encrypt(plaintext, shift)\n",
    "encrypted_text1 = shift_cipher_encrypt(plaintext1, shift1)\n",
    "\n",
    "print(\"Encrypted 1:\", encrypted_text)\n",
    "print(\"Encrypted 2:\", encrypted_text1)"
   ]
  },
  {
   "cell_type": "markdown",
   "metadata": {},
   "source": [
    "### 2. Substitution Cipher\n",
    "\n",
    "#### Exercise:\n",
    "Write a Python function `substitution_cipher_encrypt(plaintext, key)` that takes a plaintext string and a substitution key as input and returns the corresponding ciphertext using the substitution cipher.\n",
    "\n",
    "#### Example:\n",
    "> - Plaintext: \"HELLO\"\n",
    "> - Key: {'H': 'X', 'E': 'Y', 'L': 'Z', 'O': 'A'}\n",
    "> - Ciphertext: \"XYZZA\"\n",
    "\n",
    "> - Plaintext: \"WORLD\"\n",
    "> - Key: {'W': 'Q', 'O': 'P', 'R': 'S', 'L': 'T', 'D': 'U'}\n",
    "> - Ciphertext: \"QPSUT\""
   ]
  },
  {
   "cell_type": "markdown",
   "metadata": {},
   "source": [
    "### 3. Affine Cipher\n",
    "\n",
    "#### Exercise:\n",
    "Write a Python function `affine_cipher_encrypt(plaintext, a, b)` that takes a plaintext string and two integer values a and b as input and returns the corresponding ciphertext using the affine cipher.\n",
    "\n",
    "#### Example:\n",
    "> - Plaintext: \"HELLO\"\n",
    "> - a: 5\n",
    "> - b: 8\n",
    "> - Ciphertext: \"ZGWWA\"\n",
    "\n",
    "> - Plaintext: \"WORLD\"\n",
    "> - a: 3\n",
    "> - b: 7\n",
    "> - Ciphertext: \"JYXGA\""
   ]
  },
  {
   "cell_type": "markdown",
   "metadata": {},
   "source": [
    "### 4. Hill Cipher\n",
    "\n",
    "#### Exercise:\n",
    "Write a Python function `hill_cipher_encrypt(plaintext, key)` that takes a plaintext string and a 2x2 matrix key as input and returns the corresponding ciphertext using the Hill cipher.\n",
    "\n",
    "#### Example:\n",
    "> - Plaintext: \"HELLO\"\n",
    "> - Key: [[2, 3], [1, 4]]\n",
    "> - Ciphertext: \"XZVZP\"\n",
    "\n",
    "> - Plaintext: \"WORLD\"\n",
    "> - Key: [[5, 6], [7, 8]]\n",
    "> - Ciphertext: \"ZVZVZ\""
   ]
  },
  {
   "cell_type": "markdown",
   "metadata": {},
   "source": [
    "### 5. Permutation Cipher\n",
    "\n",
    "#### Exercise:\n",
    "Write a Python function `permutation_cipher_encrypt(plaintext, key)` that takes a plaintext string and a permutation key as input and returns the corresponding ciphertext using the permutation cipher.\n",
    "\n",
    "#### Example:\n",
    "> - Plaintext: \"HELLO\"\n",
    "> - Key: [3, 1, 4, 2, 5]\n",
    "> - Ciphertext: \"LHEOL\"\n",
    "\n",
    "> - Plaintext: \"WORLD\"\n",
    "> - Key: [2, 4, 1, 5, 3]\n",
    "> - Ciphertext: \"OWRDL\""
   ]
  },
  {
   "cell_type": "markdown",
   "metadata": {},
   "source": [
    "### 6. LFSR Stream Cipher\n",
    "\n",
    "#### Exercise:\n",
    "Write a Python function `lfsr_cipher_encrypt(plaintext, seed, taps)` that takes a plaintext string, a seed value, and a list of tap positions as input and returns the corresponding ciphertext using the LFSR stream cipher.\n",
    "\n",
    "#### Example:\n",
    "> - Plaintext: \"HELLO\"\n",
    "> - Seed: \"10101\"\n",
    "> - Taps: [2, 4, 5]\n",
    "> - Ciphertext: \"01110\"\n",
    "\n",
    "> - Plaintext: \"WORLD\"\n",
    "> - Seed: \"11010\"\n",
    "> - Taps: [1, 3, 5]\n",
    "> - Ciphertext: \"10011\""
   ]
  },
  {
   "cell_type": "markdown",
   "metadata": {},
   "source": [
    "## Cryptanalysis Topics"
   ]
  },
  {
   "cell_type": "markdown",
   "metadata": {},
   "source": [
    "### 1. Affine Cipher\n",
    "\n",
    "Write a Python function `break_affine_cipher(ciphertext)` that takes a string `ciphertext` as input and attempts to break the affine cipher by trying all possible combinations of `a` and `b` values. The function should return the most likely plaintext obtained by decrypting the ciphertext using the correct `a` and `b` values.\n",
    "\n",
    "Example:\n",
    "```python\n",
    "ciphertext = \"Czggj, Tqxxa!\"\n",
    "plaintext = break_affine_cipher(ciphertext)\n",
    "print(plaintext)\n",
    "```\n",
    "Output:\n",
    "```\n",
    "Hello, World!\n",
    "```"
   ]
  },
  {
   "cell_type": "markdown",
   "metadata": {},
   "source": [
    "### 2. Substitution Cipher\n",
    "\n",
    "Write a Python function `break_substitution_cipher(ciphertext)` that takes a string `ciphertext` as input and attempts to break the substitution cipher by performing frequency analysis on the letters in the ciphertext. The function should return the most likely plaintext obtained by decrypting the ciphertext using the correct key.\n",
    "\n",
    "Example:\n",
    "```python\n",
    "ciphertext = \"XYZZA, CDCFA!\"\n",
    "plaintext = break_substitution_cipher(ciphertext)\n",
    "print(plaintext)\n",
    "```\n",
    "Output:\n",
    "```\n",
    "Hello, World!\n",
    "```"
   ]
  },
  {
   "cell_type": "markdown",
   "metadata": {},
   "source": [
    "### 3. Hill Cipher\n",
    "\n",
    "Write a Python function `break_hill_cipher(ciphertext, n)` that takes a string `ciphertext` and an integer `n` as input and attempts to break the Hill cipher by performing frequency analysis on the letters in the ciphertext and using matrix algebra. The function should return the most likely plaintext obtained by decrypting the ciphertext using the correct key.\n",
    "\n",
    "Example:\n",
    "```python\n",
    "ciphertext = \"XZGZJ, ZJGFA!\"\n",
    "n = 2\n",
    "plaintext = break_hill_cipher(ciphertext, n)\n",
    "print(plaintext)\n",
    "```\n",
    "Output:\n",
    "```\n",
    "Hello, World!\n",
    "```"
   ]
  },
  {
   "cell_type": "markdown",
   "metadata": {},
   "source": [
    "### 4. LFSR Stream Cipher\n",
    "\n",
    "Write a Python function `break_lfsr_stream_cipher(ciphertext, taps)` that takes a string `ciphertext` and a list of integers `taps` as input and attempts to break the LFSR stream cipher by performing a known-plaintext attack. The function should return the most likely plaintext obtained by decrypting the ciphertext using the correct taps.\n",
    "\n",
    "Example:\n",
    "```python\n",
    "ciphertext = \"10101010101010101010\"\n",
    "taps = [5, 3]\n",
    "plaintext = break_lfsr_stream_cipher(ciphertext, taps)\n",
    "print(plaintext)\n",
    "```\n",
    "Output:\n",
    "```\n",
    "Hello, World!\n",
    "```"
   ]
  }
 ],
 "metadata": {
  "kernelspec": {
   "display_name": "Python 3",
   "language": "python",
   "name": "python3"
  },
  "language_info": {
   "codemirror_mode": {
    "name": "ipython",
    "version": 3
   },
   "file_extension": ".py",
   "mimetype": "text/x-python",
   "name": "python",
   "nbconvert_exporter": "python",
   "pygments_lexer": "ipython3",
   "version": "3.9.13"
  },
  "orig_nbformat": 4
 },
 "nbformat": 4,
 "nbformat_minor": 2
}
