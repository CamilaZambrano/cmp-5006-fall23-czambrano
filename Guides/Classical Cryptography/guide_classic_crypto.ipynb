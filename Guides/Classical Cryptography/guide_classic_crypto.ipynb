{
 "cells": [
  {
   "cell_type": "markdown",
   "metadata": {},
   "source": [
    "# Work Guide: Classical Cryptography"
   ]
  },
  {
   "cell_type": "markdown",
   "metadata": {},
   "source": [
    "## Part 1: Research Topics"
   ]
  },
  {
   "cell_type": "markdown",
   "metadata": {},
   "source": [
    "In this section, you will research various classical cryptography topics. Each topic has a set of questions to guide your learning. Avoid repetition and ensure that the questions are slightly different for each topic."
   ]
  },
  {
   "cell_type": "markdown",
   "metadata": {},
   "source": [
    "### 1. The Shift Cipher\n",
    "\n",
    "**1. What is the shift cipher and how does it work?**\n",
    "It is a simple and historically significant method of It is a substitution encryption, it works by using the modulo operator to encrypt and decrypt messages. The cipher has a key K, which is an integer from 0 to 25.\n",
    "\n",
    "**2. How can you encrypt and decrypt messages using the shift cipher?**\n",
    "The encryption process works by choosing a key, which is an integer representing the number of positions to shift, then taking each letter in the plaintext and shift it by the key value. If the shift takes a letter beyond the end of the alphabet, start again with the letter A.\n",
    "\n",
    "The decryption process works by using the same key value, but shift the letters in the opposite direction.\n",
    "\n",
    "Important things: \n",
    "Maintain the letter's case (uppercase or lowercase) during the shift.\n",
    "Spaces and punctuation are usually left unchanged.\n",
    "To decript do it up the alphabet if you previously shifted down, and vice versa.\n",
    "\n",
    "**3. What are the limitations and vulnerabilities of the shift cipher?**\n",
    "The limitations and vulnerabilities are: \n",
    "- There are limited key space because the alphabet has only 26 letters, so there are only 25 possible keys (k = 0 doesn't change the text). This makes it susceptible to brute-force attacks.\n",
    "- Because of it's simplicity and becuase it can easily broken using modern encryption techniques, is not suitable for secure communications.\n",
    "- Because the cipher only involves substitution, it's vulnerable to frequency analysis, which means that the letters have predictable frequency distributions. Thus, an attacker can analyze the frequencies of letters in the ciphertext and deduce the key.\n",
    "\n",
    "**4. Can you provide an example of a real-world application of the shift cipher?**\n",
    "This cipher is not save to used in today's world, but it can serve as a teaching tool to introduce the concepts of cryptography and encryption or in puzzle games. \n",
    "\n",
    "**5. How does the shift cipher relate to modular arithmetic?**\n",
    "There is a relationship between the cipher and the modular arithmetic, when shifting letters in the alphabet, the \"modulo\" operation is implicitly used. In the English alphabet with 26 letters, shifting by 3 positions can be expressed as (letter_index + 3) % 26, where letter_index is the position of the letter in the alphabet. The modulo operation ensures that the shifted letter wraps around to the beginning of the alphabet if it goes beyond 'Z'. This concept is a fundamental aspect of modular arithmetic.\n",
    "\n",
    "Sources: \n",
    "- Khan Academy, 2013 - https://www.khanacademy.org/computing/computer-science/cryptography/ciphers/a/shift-cipher\n",
    "- Arizona State University, s/f. - https://math.asu.edu/sites/default/files/shift.pdf\n",
    "- Geeks for Geeks, 2023 - https://www.geeksforgeeks.org/caesar-cipher-in-cryptography/\n",
    "- Stony Brook University, 2005 - https://www.math.stonybrook.edu/~scott/papers/MSTP/crypto/3Caesar_Cipher.html"
   ]
  },
  {
   "cell_type": "markdown",
   "metadata": {},
   "source": [
    "# Lab Guide: Cryptography Programming Exercises"
   ]
  },
  {
   "cell_type": "markdown",
   "metadata": {},
   "source": [
    "## Classic Cryptography Topics"
   ]
  },
  {
   "cell_type": "markdown",
   "metadata": {},
   "source": [
    "### 1. Shift Cipher\n",
    "#### Exercise:\n",
    "Write a Python function `shift_cipher_encrypt(plaintext, shift)` that takes a plaintext string and a shift value as input and returns the corresponding ciphertext using the shift cipher.\n",
    "\n",
    "#### Example:\n",
    "> - Plaintext: \"HELLO\"\n",
    "> - Shift: 3\n",
    "> - Ciphertext: \"KHOOR\"\n",
    "\n",
    "> - Plaintext: \"WORLD\"\n",
    "> - Shift: 5\n",
    "> - Ciphertext: \"BTWQI\""
   ]
  },
  {
   "cell_type": "code",
   "execution_count": 8,
   "metadata": {},
   "outputs": [
    {
     "name": "stdout",
     "output_type": "stream",
     "text": [
      "Encrypted 1: KHOOR\n",
      "Encrypted 2: BTWQI\n"
     ]
    }
   ],
   "source": [
    "def shift_cipher_encrypt(plaintext, shift):\n",
    "    ciphertext = \"\"\n",
    "    \n",
    "    for char in plaintext:\n",
    "        #isalpha() is a method to checking if a string or char contains only letters\n",
    "        if char.isalpha():\n",
    "            #ord() return the unicode, islower() checks if this lowercase\n",
    "            base = ord('a') if char.islower() else ord('A')\n",
    "            shifted_char = chr((ord(char) - base + shift) % 26 + base)\n",
    "        else:\n",
    "            shifted_char = char\n",
    "        \n",
    "        ciphertext += shifted_char\n",
    "    \n",
    "    return ciphertext\n",
    "\n",
    "plaintext = \"HELLO\"\n",
    "plaintext1 = \"WORLD\"\n",
    "\n",
    "shift = 3\n",
    "shift1 = 5\n",
    "\n",
    "encrypted_text = shift_cipher_encrypt(plaintext, shift)\n",
    "encrypted_text1 = shift_cipher_encrypt(plaintext1, shift1)\n",
    "\n",
    "print(\"Encrypted 1:\", encrypted_text)\n",
    "print(\"Encrypted 2:\", encrypted_text1)"
   ]
  }
 ],
 "metadata": {
  "kernelspec": {
   "display_name": "Python 3",
   "language": "python",
   "name": "python3"
  },
  "language_info": {
   "codemirror_mode": {
    "name": "ipython",
    "version": 3
   },
   "file_extension": ".py",
   "mimetype": "text/x-python",
   "name": "python",
   "nbconvert_exporter": "python",
   "pygments_lexer": "ipython3",
   "version": "3.9.13"
  },
  "orig_nbformat": 4
 },
 "nbformat": 4,
 "nbformat_minor": 2
}
