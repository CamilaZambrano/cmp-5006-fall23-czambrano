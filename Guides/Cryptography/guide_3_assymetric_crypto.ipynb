{
 "cells": [
  {
   "cell_type": "markdown",
   "metadata": {},
   "source": [
    "# Research Topics Cryptography Part 3\n",
    "\n",
    "## 1. Number Theory"
   ]
  },
  {
   "cell_type": "markdown",
   "metadata": {},
   "source": [
    "### The Extended Euclidean Algorithm\n",
    "\n",
    "**1. What is the extended Euclidean algorithm and how does it work?**\n",
    "- The extended Euclidean algorithm is an extension of the standard Euclidean algorithm. It is primarily used to find the greatest common divisor (GCD) of two integers but also calculates coefficients that represent the linear combination of the two numbers, which is helpful in solving modular equations. The algorithm proceeds as follows:\n",
    "    - Given two integers a and b, it repeatedly replaces a by b and b by the remainder of the division a/b until b becomes 0. At this point, the GCD is the absolute value of the last non-zero remainder.\n",
    "    - During this process, coefficients x and y are also computed such that ax + by = GCD, where x and y are integers.\n",
    "\n",
    "**2. Explain how the extended Euclidean algorithm can be used to find the modular inverse of a number.**\n",
    "- To find the modular inverse of a number 'a' modulo 'm', you can use the extended Euclidean algorithm. The modular inverse exists if and only if the GCD of 'a' and 'm' is 1 (they are coprime). Here's how it works:\n",
    "    - Apply the extended Euclidean algorithm to 'a' and 'm' to find coefficients x and y such that ax + my = 1 (since GCD(a, m) must be 1 for a modular inverse to exist).\n",
    "    - If GCD(a, m) is not 1, then the modular inverse does not exist.\n",
    "    - If GCD(a, m) is 1, then 'x' is the modular inverse of 'a' modulo 'm'.\n",
    "\n",
    "**3. Prove that this algorithm find the modular inverse**\n",
    "- The algorithm works because of Bézout's identity, which states that for any two integers 'a' and 'b' such that GCD(a, b) = 1, there exist integers 'x' and 'y' such that ax + by = 1. \n",
    "- So, when GCD(a, m) is 1, it implies that 'a' and 'm' are coprime, and there exist integers 'x' and 'y' that satisfy ax + my = 1. \n",
    "- This 'x' is the modular inverse of 'a' modulo 'm'.\n",
    "\n",
    "**Sources:**\n",
    "- Brilliant, s/f - https://brilliant.org/wiki/extended-euclidean-algorithm/#:~:text=It%20is%20a%20method%20of,complicated%20algorithms%20in%20number%20theory.\n",
    "- Stack Exchange, 2023 - https://math.stackexchange.com/questions/747342/extended-euclidean-algorithm-for-modular-inverse\n",
    "- Stack Exchange, 2023 - https://math.stackexchange.com/questions/2250260/euclidean-algorithm-to-find-inverse-modulo"
   ]
  },
  {
   "cell_type": "markdown",
   "metadata": {},
   "source": [
    "### Generating Public and Private Keys using the Euclidean Algorithm\n",
    "\n",
    "**1. Describe the process of generating public and private keys using the Euclidean algorithm.**  \n",
    "Public and private keys are typically generated using asymmetric key pairs. The Euclidean algorithm is used in this context of modular arithmetic to generate these keys:\n",
    "- Select two large prime numbers, p and q.\n",
    "- Calculate n = p * q. 'n' is part of the public key.\n",
    "- Calculate the totient φ(n) = (p-1)(q-1).\n",
    "- Choose an encryption exponent 'e' (commonly a small prime or 65537) such that 1 < e < φ(n) and GCD(e, φ(n)) = 1.\n",
    "- Calculate the decryption exponent 'd' as the modular inverse of 'e' modulo φ(n).\n",
    "- The public key is (n, e), and the private key is (n, d).\n",
    "\n",
    "**2. Show an example how to generate a key pair using this method**\n",
    "- Choose the prime numbers: p = 61 and q = 53.\n",
    "- n = p * q = 61 * 53 = 3233.\n",
    "- φ(n) = (p-1)(q-1) = 60 * 52 = 3120.\n",
    "- Selected e = 17, GCD(17, 3120) = 1.\n",
    "- Modular inverse of 17 modulo 3120, d = 2753.\n",
    "- The public key is (n, e) = (3233, 17), and the private key is (n, d) = (3233, 2753).\n",
    "\n",
    "**3. Implement the process in Python**"
   ]
  },
  {
   "cell_type": "code",
   "execution_count": 3,
   "metadata": {},
   "outputs": [
    {
     "name": "stdout",
     "output_type": "stream",
     "text": [
      "((391, 7), (391, 151))\n"
     ]
    }
   ],
   "source": [
    "import random\n",
    "\n",
    "def extended_gcd(a, b):\n",
    "    if a == 0:\n",
    "        return (b, 0, 1)\n",
    "    else:\n",
    "        g, x, y = extended_gcd(b % a, a)\n",
    "        gdc = (g, y - (b // a) * x, x)\n",
    "        return gdc\n",
    "\n",
    "def mod_inverse(a, m):\n",
    "    g, x, _ = extended_gcd(a, m)\n",
    "    if g != 1:\n",
    "        raise ValueError(\"The modular inverse does not exist\")\n",
    "    else:\n",
    "        modulo = x % m\n",
    "        return modulo\n",
    "\n",
    "def generate_rsa_key_pair(num1, num2):\n",
    "    p = num1\n",
    "    q = num2\n",
    "    n = p * q\n",
    "    phi = (p - 1) * (q - 1)\n",
    "\n",
    "    e = 7\n",
    "    d = mod_inverse(e, phi)\n",
    "    return (n, e), (n, d)\n",
    "\n",
    "print(generate_rsa_key_pair(17, 23))"
   ]
  },
  {
   "cell_type": "markdown",
   "metadata": {},
   "source": [
    "**Sources:**\n",
    "- Geeks for Geeks, 2023 - https://www.geeksforgeeks.org/rsa-algorithm-cryptography/\n",
    "- Java Point, s/f - https://www.javatpoint.com/rsa-encryption-algorithm\n",
    "- YouTubre, 2023 - https://www.youtube.com/watch?v=qph77bTKJTM"
   ]
  },
  {
   "cell_type": "markdown",
   "metadata": {},
   "source": [
    "## 2. Public Key Infrastructure (PKI)"
   ]
  },
  {
   "cell_type": "markdown",
   "metadata": {},
   "source": [
    "### Components of a PKI\n",
    "- What are the main components of a Public Key Infrastructure (PKI)?\n",
    "- How do these components interact with each other in a PKI system?\n",
    "- What roles do the Certification Authority (CA), Registration Authority (RA), and Certificate Revocation List (CRL) play in a PKI?"
   ]
  },
  {
   "cell_type": "markdown",
   "metadata": {},
   "source": [
    "### How PKI Works\n",
    "- Explain the process of key pair generation in a PKI.\n",
    "- How are digital certificates issued and validated in a PKI?\n",
    "- What is the role of a Certificate Authority (CA) in the PKI workflow?"
   ]
  },
  {
   "cell_type": "markdown",
   "metadata": {},
   "source": [
    "### PKI Certificates\n",
    "- What information is typically included in a PKI certificate?\n",
    "- How are certificates used for authentication and encryption purposes?\n",
    "- What is the difference between a self-signed certificate and a certificate signed by a trusted CA?"
   ]
  },
  {
   "cell_type": "markdown",
   "metadata": {},
   "source": [
    "### Why is PKI Used?\n",
    "- What are the main advantages of using a PKI for secure communication?\n",
    "- How does PKI help in ensuring the confidentiality, integrity, and authenticity of data?\n",
    "- Can you provide real-world examples of how PKI is used in different industries or applications?"
   ]
  },
  {
   "cell_type": "markdown",
   "metadata": {},
   "source": [
    "## 3. Digital Signatures"
   ]
  },
  {
   "cell_type": "markdown",
   "metadata": {},
   "source": [
    "### What's the goal of using digital signatures?\n",
    "- Why are digital signatures important in cybersecurity?\n",
    "- How do digital signatures help ensure the authenticity and integrity of digital documents?\n",
    "- What are the advantages of using digital signatures over traditional handwritten signatures?"
   ]
  },
  {
   "cell_type": "markdown",
   "metadata": {},
   "source": [
    "### Implementation with public key cryptography\n",
    "- How does public key cryptography work in the context of digital signatures?\n",
    "- What are the key components involved in implementing digital signatures using public key cryptography?\n",
    "- Explain the process of generating and verifying a digital signature using public key cryptography."
   ]
  },
  {
   "cell_type": "markdown",
   "metadata": {},
   "source": [
    "### How PKI integrates with digital signatures?\n",
    "- What is PKI (Public Key Infrastructure) and how does it relate to digital signatures?\n",
    "- How does PKI provide a framework for managing digital certificates used in digital signatures?\n",
    "- Explain the role of Certificate Authorities (CAs) in PKI and their relationship with digital signatures."
   ]
  },
  {
   "cell_type": "markdown",
   "metadata": {},
   "source": [
    "## 4. Key Management and Distribution"
   ]
  },
  {
   "cell_type": "markdown",
   "metadata": {},
   "source": [
    "### Symmetric Key Distribution using Symmetric Encryption\n",
    "1. What are the advantages and disadvantages of using symmetric encryption for key distribution?\n",
    "2. Can you provide examples of commonly used symmetric encryption algorithms for key distribution?\n",
    "3. What are some best practices for securely distributing symmetric keys using symmetric encryption?"
   ]
  },
  {
   "cell_type": "markdown",
   "metadata": {},
   "source": [
    "### Symmetric Key Distribution using Asymmetric Encryption\n",
    "1. How does asymmetric encryption facilitate the distribution of symmetric keys?\n",
    "2. What are the benefits and drawbacks of using asymmetric encryption for symmetric key distribution?\n",
    "3. Can you explain the process of distributing symmetric keys using asymmetric encryption?\n",
    "4. Are there any specific algorithms or protocols commonly used for symmetric key distribution using asymmetric encryption?"
   ]
  },
  {
   "cell_type": "markdown",
   "metadata": {},
   "source": [
    "### Distribution of Public Keys\n",
    "1. How are public keys distributed in a secure manner?\n",
    "2. What are the challenges associated with distributing public keys?\n",
    "3. Are there any specific protocols or standards used for the distribution of public keys?"
   ]
  }
 ],
 "metadata": {
  "kernelspec": {
   "display_name": "cmpSecurity-env",
   "language": "python",
   "name": "python3"
  },
  "language_info": {
   "codemirror_mode": {
    "name": "ipython",
    "version": 3
   },
   "file_extension": ".py",
   "mimetype": "text/x-python",
   "name": "python",
   "nbconvert_exporter": "python",
   "pygments_lexer": "ipython3",
   "version": "3.9.13"
  }
 },
 "nbformat": 4,
 "nbformat_minor": 2
}
