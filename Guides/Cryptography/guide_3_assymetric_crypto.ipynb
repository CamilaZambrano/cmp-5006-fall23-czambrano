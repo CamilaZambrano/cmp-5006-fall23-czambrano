{
 "cells": [
  {
   "cell_type": "markdown",
   "metadata": {},
   "source": [
    "# Research Topics Cryptography Part 3\n",
    "\n",
    "## 1. Number Theory"
   ]
  },
  {
   "cell_type": "markdown",
   "metadata": {},
   "source": [
    "### The Extended Euclidean Algorithm\n",
    "1. What is the extended Euclidean algorithm and how does it work?\n",
    "2. Explain how the extended Euclidean algorithm can be used to find the modular inverse of a number.\n",
    "3. Prove that this algorithm find the modular inverse"
   ]
  },
  {
   "cell_type": "markdown",
   "metadata": {},
   "source": [
    "### Generating Public and Private Keys using the Euclidean Algorithm\n",
    "1. Describe the process of generating public and private keys using the Euclidean algorithm.\n",
    "2. Show an example how to generate a key pair using this method\n",
    "3. Implement the process in Python"
   ]
  },
  {
   "cell_type": "markdown",
   "metadata": {},
   "source": [
    "## 2. Public Key Infrastructure (PKI)"
   ]
  },
  {
   "cell_type": "markdown",
   "metadata": {},
   "source": [
    "### Components of a PKI\n",
    "- What are the main components of a Public Key Infrastructure (PKI)?\n",
    "- How do these components interact with each other in a PKI system?\n",
    "- What roles do the Certification Authority (CA), Registration Authority (RA), and Certificate Revocation List (CRL) play in a PKI?"
   ]
  },
  {
   "cell_type": "markdown",
   "metadata": {},
   "source": [
    "### How PKI Works\n",
    "- Explain the process of key pair generation in a PKI.\n",
    "- How are digital certificates issued and validated in a PKI?\n",
    "- What is the role of a Certificate Authority (CA) in the PKI workflow?"
   ]
  },
  {
   "cell_type": "markdown",
   "metadata": {},
   "source": [
    "### PKI Certificates\n",
    "- What information is typically included in a PKI certificate?\n",
    "- How are certificates used for authentication and encryption purposes?\n",
    "- What is the difference between a self-signed certificate and a certificate signed by a trusted CA?"
   ]
  },
  {
   "cell_type": "markdown",
   "metadata": {},
   "source": [
    "### Why is PKI Used?\n",
    "- What are the main advantages of using a PKI for secure communication?\n",
    "- How does PKI help in ensuring the confidentiality, integrity, and authenticity of data?\n",
    "- Can you provide real-world examples of how PKI is used in different industries or applications?"
   ]
  },
  {
   "cell_type": "markdown",
   "metadata": {},
   "source": [
    "## 3. Digital Signatures"
   ]
  },
  {
   "cell_type": "markdown",
   "metadata": {},
   "source": [
    "### What's the goal of using digital signatures?\n",
    "- Why are digital signatures important in cybersecurity?\n",
    "- How do digital signatures help ensure the authenticity and integrity of digital documents?\n",
    "- What are the advantages of using digital signatures over traditional handwritten signatures?"
   ]
  },
  {
   "cell_type": "markdown",
   "metadata": {},
   "source": [
    "### Implementation with public key cryptography\n",
    "- How does public key cryptography work in the context of digital signatures?\n",
    "- What are the key components involved in implementing digital signatures using public key cryptography?\n",
    "- Explain the process of generating and verifying a digital signature using public key cryptography."
   ]
  },
  {
   "cell_type": "markdown",
   "metadata": {},
   "source": [
    "### How PKI integrates with digital signatures?\n",
    "- What is PKI (Public Key Infrastructure) and how does it relate to digital signatures?\n",
    "- How does PKI provide a framework for managing digital certificates used in digital signatures?\n",
    "- Explain the role of Certificate Authorities (CAs) in PKI and their relationship with digital signatures."
   ]
  },
  {
   "cell_type": "markdown",
   "metadata": {},
   "source": [
    "## 4. Key Management and Distribution"
   ]
  },
  {
   "cell_type": "markdown",
   "metadata": {},
   "source": [
    "### Symmetric Key Distribution using Symmetric Encryption\n",
    "1. What are the advantages and disadvantages of using symmetric encryption for key distribution?\n",
    "2. Can you provide examples of commonly used symmetric encryption algorithms for key distribution?\n",
    "3. What are some best practices for securely distributing symmetric keys using symmetric encryption?"
   ]
  },
  {
   "cell_type": "markdown",
   "metadata": {},
   "source": [
    "### Symmetric Key Distribution using Asymmetric Encryption\n",
    "1. How does asymmetric encryption facilitate the distribution of symmetric keys?\n",
    "2. What are the benefits and drawbacks of using asymmetric encryption for symmetric key distribution?\n",
    "3. Can you explain the process of distributing symmetric keys using asymmetric encryption?\n",
    "4. Are there any specific algorithms or protocols commonly used for symmetric key distribution using asymmetric encryption?"
   ]
  },
  {
   "cell_type": "markdown",
   "metadata": {},
   "source": [
    "### Distribution of Public Keys\n",
    "1. How are public keys distributed in a secure manner?\n",
    "2. What are the challenges associated with distributing public keys?\n",
    "3. Are there any specific protocols or standards used for the distribution of public keys?"
   ]
  }
 ],
 "metadata": {
  "language_info": {
   "name": "python"
  }
 },
 "nbformat": 4,
 "nbformat_minor": 2
}
