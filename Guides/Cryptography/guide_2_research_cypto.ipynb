{
 "cells": [
  {
   "cell_type": "markdown",
   "metadata": {},
   "source": [
    "# Research Topics Cryptography Part 2\n",
    "\n",
    "## 1. Math Topics"
   ]
  },
  {
   "cell_type": "markdown",
   "metadata": {},
   "source": [
    "### Probability Review\n",
    "1. What is the concept of probability and, conditional probability and joint probability in the context of cybersecurity."
   ]
  },
  {
   "cell_type": "markdown",
   "metadata": {},
   "source": [
    "### Entropy\n",
    "1. What is entropy and how is it relevant to cybersecurity?\n",
    "2. How can entropy be used to measure the randomness of data?\n",
    "3. Discuss the relationship between entropy and the strength of cryptographic algorithms."
   ]
  },
  {
   "cell_type": "markdown",
   "metadata": {},
   "source": [
    "### Spurious Keys and Unicity Distance\n",
    "1. What are spurious keys and how can they impact the security of cryptographic systems?\n",
    "2. Explain the concept of unicity distance and its significance in cryptography.\n",
    "3. How can the knowledge of spurious keys and unicity distance help in designing more secure cryptographic algorithms?"
   ]
  },
  {
   "cell_type": "markdown",
   "metadata": {},
   "source": [
    "## 2. Block Ciphers and Stream Ciphers\n",
    "\n",
    "### The Advanced Encryption Standard (AES)\n",
    "1. What is AES and why is it considered a widely used symmetric encryption algorithm?\n",
    "2. Discuss the key features and characteristics of AES that contribute to its security.\n",
    "3. How does AES differ from its predecessor, the Data Encryption Standard (DES), in terms of security and performance?"
   ]
  },
  {
   "cell_type": "markdown",
   "metadata": {},
   "source": [
    "## 3. Hash Functions\n",
    "\n",
    "### Use of Hash Functions in Data Integrity\n",
    "1. Explain how hash functions are used to ensure data integrity in cybersecurity.\n",
    "2. Discuss the role of hash functions in detecting data tampering and unauthorized modifications.\n",
    "3. How can hash functions be employed to verify the integrity of digital signatures?\n",
    "\n",
    "### Security of Hash Functions\n",
    "1. What are the potential vulnerabilities and attacks that can compromise the security of hash functions?\n",
    "2. Describe the properties that a secure hash function should possess.\n",
    "3. Discuss the importance of collision resistance in hash functions and its impact on cybersecurity.\n",
    "\n",
    "### Message Authentication Codes (MAC)\n",
    "1. What is a Message Authentication Code (MAC) and how does it provide data integrity and authentication?\n",
    "2. Explain the process of generating and verifying MACs using hash functions.\n",
    "3. Discuss the advantages and limitations of MACs compared to digital signatures in cybersecurity.\n",
    "\n",
    "Note: The questions provided above are meant to guide students in their research and learning process. They can be used as a starting point for further exploration of the respective topics."
   ]
  }
 ],
 "metadata": {
  "language_info": {
   "name": "python"
  }
 },
 "nbformat": 4,
 "nbformat_minor": 2
}
