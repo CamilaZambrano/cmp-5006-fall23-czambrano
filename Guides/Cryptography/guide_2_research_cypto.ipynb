{
 "cells": [
  {
   "cell_type": "markdown",
   "metadata": {},
   "source": [
    "# Research Topics Cryptography Part 2\n",
    "\n",
    "## 1. Math Topics"
   ]
  },
  {
   "cell_type": "markdown",
   "metadata": {},
   "source": [
    "### Probability Review\n",
    "1. What is the concept of probability and, conditional probability and joint probability in the context of cybersecurity.\n",
    "\n",
    "- **Probability:** In the context of cybersecurity, probability is used to quantify the likelihood of various events or outcomes occurring. It helps in assessing and managing risks associated with security breaches, vulnerabilities, and attacks. For example, it can be used to estimate the probability of a successful intrusion into a system, the likelihood of a particular password being guessed, or the chances of a data breach occurring.\n",
    "- **Conditional Probability:** Conditional probability in cybersecurity refers to the probability of an event occurring given that another event has already occurred. For instance, the conditional probability of a successful malware infection given that a user clicked on a malicious link.\n",
    "- **Joint Probability:** Joint probability refers to the probability of two or more events occurring together. In cybersecurity, this can be used to assess the likelihood of multiple security events happening simultaneously. For example, the joint probability of a firewall breach and a successful phishing attack.\n",
    "\n",
    "Sources:\n",
    "- The Role of Probability, 2016- https://sphweb.bumc.bu.edu/otlt/mph-modules/bs/bs704_probability/BS704_Probability3.html\n",
    "- Investopedia, 2023 - https://www.investopedia.com/terms/c/conditional_probability.asp\n",
    "- Investopedia, 2021 - https://www.investopedia.com/terms/j/jointprobability.asp#:~:text=The%20term%20joint%20probability%20refers,time%20that%20event%20X%20occurs.\n",
    "- KTH Royal Institute of Technology, 2019 - https://www.diva-portal.org/smash/get/diva2:1472278/FULLTEXT01.pdf"
   ]
  },
  {
   "cell_type": "markdown",
   "metadata": {},
   "source": [
    "### Entropy\n",
    "\n",
    "**1. What is entropy and how is it relevant to cybersecurity?**\n",
    "- Entropy is a measure of randomness and uncertainty within data or systems. \n",
    "- It quantifies the amount of disorder or chaos in a system. \n",
    "- In information theory, entropy is used to assess the unpredictability of data, such as the randomness of encryption keys or the complexity of passwords.\n",
    "\n",
    "**2. How can entropy be used to measure the randomness of data?**\n",
    "- Entropy can be used to measure the randomness of data by calculating the Shannon entropy. \n",
    "- This involves analyzing the frequency distribution of characters or bits within the data. \n",
    "- Highly random data will have high entropy, while predictable or repetitive data will have low entropy.\n",
    "\n",
    "**3. Discuss the relationship between entropy and the strength of cryptographic algorithms.**\n",
    "- Entropy is crucial in cryptography because it influences the strength of encryption keys and passwords. \n",
    "- Strong cryptographic algorithms require high-entropy keys to resist brute-force attacks. \n",
    "- Weak keys with low entropy are more susceptible to being guessed or cracked, compromising the security of the system.\n",
    "\n",
    "**Sources:**\n",
    "- Quside, 2021 - https://quside.com/what-is-entropy-in-cryptography-and-encryption/\n",
    "- Science Direct, 2022 - https://www.sciencedirect.com/science/article/abs/pii/S0378375821000604#:~:text=This%20approach%20relies%20on%20information,less%20information%20the%20observer%20has.\n",
    "- National Institute of Standards and Technology, ps/f - https://tsapps.nist.gov/publication/get_pdf.cfm?pub_id=915121"
   ]
  },
  {
   "cell_type": "markdown",
   "metadata": {},
   "source": [
    "### Spurious Keys and Unicity Distance\n",
    "\n",
    "**1. What are spurious keys and how can they impact the security of cryptographic systems?**\n",
    "- Spurious keys are incorrect or unintended decryption keys that can decrypt a ciphertext into a seemingly valid but incorrect message. \n",
    "- They can impact security by leading to data leakage or providing attackers with misleading information.\n",
    "\n",
    "**2. Explain the concept of unicity distance and its significance in cryptography.**\n",
    "- Unicity distance is the minimum amount of ciphertext required to uniquely determine the correct decryption key in a cryptographic system. \n",
    "- It is a measure of the security of the system. \n",
    "- A longer unicity distance implies greater security because it becomes more challenging for attackers to guess the correct key.\n",
    "\n",
    "**3. How can the knowledge of spurious keys and unicity distance help in designing more secure cryptographic algorithms?**\n",
    "- Knowledge of spurious keys and unicity distance is crucial in designing cryptographic algorithms. \n",
    "- Designers aim to increase the unicity distance to make it practically infeasible for attackers to find spurious keys. \n",
    "- By doing so, they enhance the security of the system by minimizing the likelihood of successful decryption with incorrect keys.\n",
    "\n",
    "**Sources:**\n",
    "- Academy & Industry Research Collaboration Center, 2017 - https://airccj.org/CSCP/vol7/csit77307.pdf\n",
    "- Wikipedia, s/f - https://en.wikipedia.org/wiki/Unicity_distance#:~:text=In%20cryptography%2C%20unicity%20distance%20is,in%20a%20brute%20force%20attack.\n",
    "- Practical Crytography, s/f - http://practicalcryptography.com/cryptanalysis/text-characterisation/statistics/\n",
    "- Research Gate, 2012 - https://www.researchgate.net/publication/261430917_Application_of_unicity_distance_in_a_cryptosystem_based_on_chaos"
   ]
  },
  {
   "cell_type": "markdown",
   "metadata": {},
   "source": [
    "## 2. Block Ciphers and Stream Ciphers\n",
    "\n",
    "### The Advanced Encryption Standard (AES)\n",
    "1. What is AES and why is it considered a widely used symmetric encryption algorithm?\n",
    "2. Discuss the key features and characteristics of AES that contribute to its security.\n",
    "3. How does AES differ from its predecessor, the Data Encryption Standard (DES), in terms of security and performance?"
   ]
  },
  {
   "cell_type": "markdown",
   "metadata": {},
   "source": [
    "## 3. Hash Functions\n",
    "\n",
    "### Use of Hash Functions in Data Integrity\n",
    "1. Explain how hash functions are used to ensure data integrity in cybersecurity.\n",
    "2. Discuss the role of hash functions in detecting data tampering and unauthorized modifications.\n",
    "3. How can hash functions be employed to verify the integrity of digital signatures?\n",
    "\n",
    "### Security of Hash Functions\n",
    "1. What are the potential vulnerabilities and attacks that can compromise the security of hash functions?\n",
    "2. Describe the properties that a secure hash function should possess.\n",
    "3. Discuss the importance of collision resistance in hash functions and its impact on cybersecurity.\n",
    "\n",
    "### Message Authentication Codes (MAC)\n",
    "1. What is a Message Authentication Code (MAC) and how does it provide data integrity and authentication?\n",
    "2. Explain the process of generating and verifying MACs using hash functions.\n",
    "3. Discuss the advantages and limitations of MACs compared to digital signatures in cybersecurity.\n",
    "\n",
    "Note: The questions provided above are meant to guide students in their research and learning process. They can be used as a starting point for further exploration of the respective topics."
   ]
  }
 ],
 "metadata": {
  "language_info": {
   "name": "python"
  }
 },
 "nbformat": 4,
 "nbformat_minor": 2
}
